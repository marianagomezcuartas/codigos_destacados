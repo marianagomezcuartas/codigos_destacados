{
  "nbformat": 4,
  "nbformat_minor": 0,
  "metadata": {
    "colab": {
      "provenance": []
    },
    "kernelspec": {
      "name": "python3",
      "display_name": "Python 3"
    },
    "language_info": {
      "name": "python"
    }
  },
  "cells": [
    {
      "cell_type": "markdown",
      "source": [
        "# Laboratorio 02\n",
        "### Métodos computacionales para físicos  y astrónomos\n",
        "### Universidad de Antioquia\n",
        "### Prof: Hernan D. Salinas Jiménez\n",
        "\n"
      ],
      "metadata": {
        "id": "kKNBYkSAIO_-"
      }
    },
    {
      "cell_type": "code",
      "source": [
        "!git clone https://github.com/hernansalinas/autogrades.git"
      ],
      "metadata": {
        "colab": {
          "base_uri": "https://localhost:8080/"
        },
        "id": "TFmOxrpqWCiE",
        "outputId": "55707ce0-44c0-4e48-d4eb-048001444c6b"
      },
      "execution_count": null,
      "outputs": [
        {
          "output_type": "stream",
          "name": "stdout",
          "text": [
            "Cloning into 'autogrades'...\n",
            "remote: Enumerating objects: 216, done.\u001b[K\n",
            "remote: Counting objects: 100% (200/200), done.\u001b[K\n",
            "remote: Compressing objects: 100% (142/142), done.\u001b[K\n",
            "remote: Total 216 (delta 81), reused 166 (delta 52), pack-reused 16\u001b[K\n",
            "Receiving objects: 100% (216/216), 64.04 KiB | 3.77 MiB/s, done.\n",
            "Resolving deltas: 100% (86/86), done.\n"
          ]
        }
      ]
    },
    {
      "cell_type": "code",
      "source": [
        "# Ejecutar esta celda antes de cada laboratorio\n",
        "path=\"autogrades/Laboratorios_Taller/libs\"\n",
        "pathL=\"autogrades/Laboratorios_Taller/libs/Lab_02\"\n",
        "%run -i {path}/libUnitTest.py"
      ],
      "metadata": {
        "id": "5tCaVJVzIRe3"
      },
      "execution_count": null,
      "outputs": []
    },
    {
      "cell_type": "markdown",
      "source": [
        "## Problemas\n",
        "\n",
        "### Factorial\n",
        "1. Elaborar un algoritmo e implementar en python, el factorial de un número entero `n` ingresado por el usuario.\n",
        "\n",
        "1. Si el número es un entero deberá retornal el factorial del número.\n",
        "2. Si el número es negativo deberá aparecer un mensaje tipo string con el mensaje  \"el número no puede ser negativo\"\n",
        "\n",
        "3. Si el número es pertenece a los reales(float) el mensaje será, el número no puede ser real.\n",
        "\n",
        "\n",
        "     ### Ejemplo de Ejecución\n",
        "    ```python\n",
        "\n",
        "    >>> factorial(3)\n",
        "        6\n",
        "\n",
        "    >>> factorial(1987123)\n",
        "        =???\n",
        "```\n"
      ],
      "metadata": {
        "id": "l--LTzupJe4I"
      }
    },
    {
      "cell_type": "code",
      "source": [
        "def factorial(n):\n",
        "  if n<0:\n",
        "    return(\"el número no puede ser negativo\")\n",
        "  elif type(n) == float:\n",
        "    return(\"el número no puede ser real\")\n",
        "  elif n==0:\n",
        "    return 1\n",
        "  else:\n",
        "    return n*factorial (n-1)"
      ],
      "metadata": {
        "id": "pn2bjBBJqKUl"
      },
      "execution_count": null,
      "outputs": []
    },
    {
      "cell_type": "code",
      "source": [
        "%run -i {pathL}/test01.py"
      ],
      "metadata": {
        "colab": {
          "base_uri": "https://localhost:8080/",
          "height": 254
        },
        "id": "Z_yv_5NEMRqp",
        "outputId": "b88c059a-4805-4c54-cc63-7a22fb164c36"
      },
      "execution_count": null,
      "outputs": [
        {
          "output_type": "display_data",
          "data": {
            "text/plain": [
              "<IPython.core.display.HTML object>"
            ],
            "text/html": [
              "<style>\n",
              "  table { text-align: left; border-collapse: collapse; margin: 1em; caption-side: bottom; font-family: Sans-Serif; font-size: 12px}\n",
              "  caption { text-align: left; padding: 5px }\n",
              "  th, td { border: 2px solid #BFC9CA; padding: 5px }\n",
              "  th { background-color: #BFC9CA }\n",
              "  .passed { background-color: #76D7C4 }\n",
              "  .failed { background-color: #EC7063 }\n",
              "  .skipped { background-color: #EDBB99 }\n",
              "  .score { background-color: #7DCEA0 }\n",
              "  .results .points { display: none }\n",
              "  .results .message { display: block; font-size:smaller; color:#D35400 }\n",
              "  .results .note { display: block; font-size:smaller; font-decoration:italics }\n",
              "  .results .passed::before  { content: \"Passed\" } \n",
              "  .results .skipped::before  { content: \"Skipped\" } \n",
              "  .results .failed::before  { content: \"Failed\" } \n",
              "  .grade .passed  .message:empty::before { content:\"Passed\" }\n",
              "  .grade .failed  .message:empty::before { content:\"Failed\" }\n",
              "  .grade .skipped .message:empty::before { content:\"Skipped\" }   \n",
              "</style>\n",
              "<table class='results'>\n",
              "  <th class='test'>Test</th><th class='result'>Result</th></tr>\n",
              "<tr>\n",
              "  <td class='test'>\n",
              "    Calcular  el  factorial de un número entero \n",
              "    <div class='message'>Done</div>\n",
              "  </td>\n",
              "  <td class='result passed'></td>\n",
              "</tr>\n",
              "<tr>\n",
              "  <td class='test'>\n",
              "    Prueba para valores negativos \n",
              "    <div class='message'>Done</div>\n",
              "  </td>\n",
              "  <td class='result passed'></td>\n",
              "</tr>\n",
              "<tr>\n",
              "  <td class='test'>\n",
              "    Prueba para valores reales \n",
              "    <div class='message'>Done</div>\n",
              "  </td>\n",
              "  <td class='result passed'></td>\n",
              "</tr>\n",
              "<tr>\n",
              "  <td class='test'>\n",
              "    Prueba para el factorial de 0 \n",
              "    <div class='message'>Done</div>\n",
              "  </td>\n",
              "  <td class='result passed'></td>\n",
              "</tr>  <tr><th class='score'>Total Points</th><th class='score'>4</th></tr></table>\n"
            ]
          },
          "metadata": {}
        }
      ]
    },
    {
      "cell_type": "markdown",
      "source": [
        "### Teoria de números\n",
        "\n",
        "Los enunciados 2 y 3 se refieren a la siguiente información:\n",
        "\n",
        "Diseñar un programa en el que entrado  un numero `a`  retorne una variable booleana True or false si cumple que es:\n",
        "\n",
        "2. [Números defectivo](https://es.wikipedia.org/wiki/Número_defectivo) : la suma de los divisores propios es menor que el número. \n",
        "\n",
        "  La rutina se deberá llamar números_defectivos\n",
        "\n",
        "\n",
        "\n",
        "3. [Números abundantes](https://es.wikipedia.org/wiki/Número_abundante): la suma de los divisores es mayor que el número.\n",
        "\n",
        "  La rutina se deberá llamar números_abundantes\n",
        "\n",
        "\n",
        "\n",
        "4. [Números semiperfectos](https://es.wikipedia.org/wiki/N%C3%BAmero_semiperfecto) la suma de todos o algunos de los divisores propios es igual al número.\n",
        "\n",
        "  La rutina se debera llamar numeros_semiperfectos\n",
        "\n",
        "5. [Números perfectos](https://es.wikipedia.org/wiki/N%C3%BAmero_perfecto) la suma de todos sus divisores propios, excepto el mismo numero, es igual al número.\n",
        "\n",
        "   La rutina se deberá llamar numeros_perfectos\n",
        "\n",
        "\n",
        "6. [Números primos](https://es.wikipedia.org/wiki/N%C3%BAmero_primo) el número es divisible unicamente por sí mismo y por 1.\n",
        "   La rutina se deberá llamar numeros_primos\n",
        "\n",
        "\n",
        "Problema no obligatorio: \n",
        "\n",
        "P1. Retornar los 30 primeros números de cada clase"
      ],
      "metadata": {
        "id": "Y94jQ_tzdU6l"
      }
    },
    {
      "cell_type": "code",
      "source": [
        "def numeros_defectivos(a):\n",
        "  divisores_propios=[]\n",
        "  for i in range (1,a):                 #los divisores propios son aquellos que dividen al numero sin dejar residuo, y que son menores que el propio numero\n",
        "    if a%i ==0:\n",
        "      divisores_propios.append(i)\n",
        "  if sum(divisores_propios) < a:\n",
        "    return True\n",
        "  elif sum(divisores_propios) >= a:\n",
        "    return False"
      ],
      "metadata": {
        "id": "K-J5WbytxNZ7"
      },
      "execution_count": null,
      "outputs": []
    },
    {
      "cell_type": "code",
      "source": [
        "numeros_defectivos(20)\n",
        "numeros_defectivos(21)"
      ],
      "metadata": {
        "colab": {
          "base_uri": "https://localhost:8080/"
        },
        "id": "EuX-oIyd8un6",
        "outputId": "8580af93-7c3e-4242-ae1d-57dd77708c08"
      },
      "execution_count": null,
      "outputs": [
        {
          "output_type": "execute_result",
          "data": {
            "text/plain": [
              "True"
            ]
          },
          "metadata": {},
          "execution_count": 6
        }
      ]
    },
    {
      "cell_type": "code",
      "source": [
        "%run -i {pathL}/test02.py"
      ],
      "metadata": {
        "colab": {
          "base_uri": "https://localhost:8080/",
          "height": 215
        },
        "id": "XSyDVlnzi9KL",
        "outputId": "bef57189-f1ab-4a9b-d4c3-8e0b674b9472"
      },
      "execution_count": null,
      "outputs": [
        {
          "output_type": "display_data",
          "data": {
            "text/plain": [
              "<IPython.core.display.HTML object>"
            ],
            "text/html": [
              "<style>\n",
              "  table { text-align: left; border-collapse: collapse; margin: 1em; caption-side: bottom; font-family: Sans-Serif; font-size: 12px}\n",
              "  caption { text-align: left; padding: 5px }\n",
              "  th, td { border: 2px solid #BFC9CA; padding: 5px }\n",
              "  th { background-color: #BFC9CA }\n",
              "  .passed { background-color: #76D7C4 }\n",
              "  .failed { background-color: #EC7063 }\n",
              "  .skipped { background-color: #EDBB99 }\n",
              "  .score { background-color: #7DCEA0 }\n",
              "  .results .points { display: none }\n",
              "  .results .message { display: block; font-size:smaller; color:#D35400 }\n",
              "  .results .note { display: block; font-size:smaller; font-decoration:italics }\n",
              "  .results .passed::before  { content: \"Passed\" } \n",
              "  .results .skipped::before  { content: \"Skipped\" } \n",
              "  .results .failed::before  { content: \"Failed\" } \n",
              "  .grade .passed  .message:empty::before { content:\"Passed\" }\n",
              "  .grade .failed  .message:empty::before { content:\"Failed\" }\n",
              "  .grade .skipped .message:empty::before { content:\"Skipped\" }   \n",
              "</style>\n",
              "<table class='results'>\n",
              "  <th class='test'>Test</th><th class='result'>Result</th></tr>\n",
              "<tr>\n",
              "  <td class='test'>\n",
              "    Números defectivos, la variable debe ser booleana  \n",
              "    <div class='message'>Done</div>\n",
              "  </td>\n",
              "  <td class='result passed'></td>\n",
              "</tr>\n",
              "<tr>\n",
              "  <td class='test'>\n",
              "    Comprobando si el número 4 es defectivo   \n",
              "    <div class='message'>Done</div>\n",
              "  </td>\n",
              "  <td class='result passed'></td>\n",
              "</tr>\n",
              "<tr>\n",
              "  <td class='test'>\n",
              "    Comprobando si el 6 es un número es defectivo   \n",
              "    <div class='message'>Done</div>\n",
              "  </td>\n",
              "  <td class='result passed'></td>\n",
              "</tr>  <tr><th class='score'>Total Points</th><th class='score'>3</th></tr></table>\n"
            ]
          },
          "metadata": {}
        }
      ]
    },
    {
      "cell_type": "code",
      "source": [
        "def numeros_abundantes(a):\n",
        "  divisores_propios=[]\n",
        "  for i in range (1,a):                 #los divisores propios son aquellos que dividen al numero sin dejar residuo, y que son menores que el propio numero\n",
        "    if a%i ==0:\n",
        "      divisores_propios.append(i)\n",
        "  if sum(divisores_propios) > a:\n",
        "    return True\n",
        "  elif sum(divisores_propios) <= a:\n",
        "    return False"
      ],
      "metadata": {
        "id": "sfsnNNjk5EWa"
      },
      "execution_count": null,
      "outputs": []
    },
    {
      "cell_type": "code",
      "source": [
        "numeros_abundantes(20)\n",
        "numeros_abundantes(21)\n",
        "numeros_abundantes(6)"
      ],
      "metadata": {
        "colab": {
          "base_uri": "https://localhost:8080/"
        },
        "id": "3_XI4dPu8mpq",
        "outputId": "8c7f9684-54cc-43af-96e9-03a45b4de029"
      },
      "execution_count": null,
      "outputs": [
        {
          "output_type": "execute_result",
          "data": {
            "text/plain": [
              "False"
            ]
          },
          "metadata": {},
          "execution_count": 9
        }
      ]
    },
    {
      "cell_type": "code",
      "source": [
        "%run -i {pathL}/test03.py"
      ],
      "metadata": {
        "id": "DfHfIk0DkQev",
        "colab": {
          "base_uri": "https://localhost:8080/",
          "height": 215
        },
        "outputId": "7ceee6bf-5e40-42e0-a256-2d5f4c308dcc"
      },
      "execution_count": null,
      "outputs": [
        {
          "output_type": "display_data",
          "data": {
            "text/plain": [
              "<IPython.core.display.HTML object>"
            ],
            "text/html": [
              "<style>\n",
              "  table { text-align: left; border-collapse: collapse; margin: 1em; caption-side: bottom; font-family: Sans-Serif; font-size: 12px}\n",
              "  caption { text-align: left; padding: 5px }\n",
              "  th, td { border: 2px solid #BFC9CA; padding: 5px }\n",
              "  th { background-color: #BFC9CA }\n",
              "  .passed { background-color: #76D7C4 }\n",
              "  .failed { background-color: #EC7063 }\n",
              "  .skipped { background-color: #EDBB99 }\n",
              "  .score { background-color: #7DCEA0 }\n",
              "  .results .points { display: none }\n",
              "  .results .message { display: block; font-size:smaller; color:#D35400 }\n",
              "  .results .note { display: block; font-size:smaller; font-decoration:italics }\n",
              "  .results .passed::before  { content: \"Passed\" } \n",
              "  .results .skipped::before  { content: \"Skipped\" } \n",
              "  .results .failed::before  { content: \"Failed\" } \n",
              "  .grade .passed  .message:empty::before { content:\"Passed\" }\n",
              "  .grade .failed  .message:empty::before { content:\"Failed\" }\n",
              "  .grade .skipped .message:empty::before { content:\"Skipped\" }   \n",
              "</style>\n",
              "<table class='results'>\n",
              "  <th class='test'>Test</th><th class='result'>Result</th></tr>\n",
              "<tr>\n",
              "  <td class='test'>\n",
              "    Números abundantes, la variable debe ser booleana  \n",
              "    <div class='message'>Done</div>\n",
              "  </td>\n",
              "  <td class='result passed'></td>\n",
              "</tr>\n",
              "<tr>\n",
              "  <td class='test'>\n",
              "    Comprobando si el número 80 es abundantes   \n",
              "    <div class='message'>Done</div>\n",
              "  </td>\n",
              "  <td class='result passed'></td>\n",
              "</tr>\n",
              "<tr>\n",
              "  <td class='test'>\n",
              "    Comprobando si el 7 es un número  abundante   \n",
              "    <div class='message'>Done</div>\n",
              "  </td>\n",
              "  <td class='result passed'></td>\n",
              "</tr>  <tr><th class='score'>Total Points</th><th class='score'>3</th></tr></table>\n"
            ]
          },
          "metadata": {}
        }
      ]
    },
    {
      "cell_type": "markdown",
      "source": [
        "Para la determinación de los numeros semiperfectos, se hace uso de la herramienta 'Chat GPT', para obtener un código que de manera  ***eficiente*** realice una combinatoria de la lista que sea ingresada.\\\n",
        "En la imagen se muestra la explicación del código proporcionado por chat GPT, sin embargo, tal que en la siguiente celda se incluye tal código\n",
        "\n",
        "![image.png](data:image/png;base64,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)"
      ],
      "metadata": {
        "id": "H1le09Son-_L"
      }
    },
    {
      "cell_type": "code",
      "source": [
        "import itertools\n",
        "\n",
        "def numeros_semiperfectos(a):\n",
        "  divisores_propios=[]\n",
        "  for i in range (1,a):                 \n",
        "    if a%i ==0:\n",
        "      divisores_propios.append(i)\n",
        "  #combinations = []\n",
        "  sums = []\n",
        "  for i in range(1, len(divisores_propios) + 1):\n",
        "      for c in itertools.combinations(divisores_propios, i):\n",
        "          #combinations.append(c)\n",
        "          sums.append(sum(c))\n",
        "  if a in sums:\n",
        "    return True\n",
        "  else:\n",
        "    return False"
      ],
      "metadata": {
        "id": "K9uBLUvQ6nmk"
      },
      "execution_count": null,
      "outputs": []
    },
    {
      "cell_type": "code",
      "source": [
        "print(numeros_semiperfectos(6))\n",
        "print(numeros_semiperfectos(28))\n",
        "print(numeros_semiperfectos(9))\n",
        "print(numeros_semiperfectos(4672))"
      ],
      "metadata": {
        "colab": {
          "base_uri": "https://localhost:8080/"
        },
        "id": "5PXEdgpn8It6",
        "outputId": "e9f2ae6d-17aa-4bf2-da07-bf78fedd156f"
      },
      "execution_count": null,
      "outputs": [
        {
          "output_type": "stream",
          "name": "stdout",
          "text": [
            "True\n",
            "True\n",
            "False\n",
            "True\n"
          ]
        }
      ]
    },
    {
      "cell_type": "code",
      "source": [
        "%run -i {pathL}/test04.py"
      ],
      "metadata": {
        "id": "MJzLOXxHqKrz",
        "colab": {
          "base_uri": "https://localhost:8080/",
          "height": 215
        },
        "outputId": "f71aa136-9884-4ea6-c0ea-1487333ae8e9"
      },
      "execution_count": null,
      "outputs": [
        {
          "output_type": "display_data",
          "data": {
            "text/plain": [
              "<IPython.core.display.HTML object>"
            ],
            "text/html": [
              "<style>\n",
              "  table { text-align: left; border-collapse: collapse; margin: 1em; caption-side: bottom; font-family: Sans-Serif; font-size: 12px}\n",
              "  caption { text-align: left; padding: 5px }\n",
              "  th, td { border: 2px solid #BFC9CA; padding: 5px }\n",
              "  th { background-color: #BFC9CA }\n",
              "  .passed { background-color: #76D7C4 }\n",
              "  .failed { background-color: #EC7063 }\n",
              "  .skipped { background-color: #EDBB99 }\n",
              "  .score { background-color: #7DCEA0 }\n",
              "  .results .points { display: none }\n",
              "  .results .message { display: block; font-size:smaller; color:#D35400 }\n",
              "  .results .note { display: block; font-size:smaller; font-decoration:italics }\n",
              "  .results .passed::before  { content: \"Passed\" } \n",
              "  .results .skipped::before  { content: \"Skipped\" } \n",
              "  .results .failed::before  { content: \"Failed\" } \n",
              "  .grade .passed  .message:empty::before { content:\"Passed\" }\n",
              "  .grade .failed  .message:empty::before { content:\"Failed\" }\n",
              "  .grade .skipped .message:empty::before { content:\"Skipped\" }   \n",
              "</style>\n",
              "<table class='results'>\n",
              "  <th class='test'>Test</th><th class='result'>Result</th></tr>\n",
              "<tr>\n",
              "  <td class='test'>\n",
              "    Números semiperfectos, la variable debe ser booleana  \n",
              "    <div class='message'>Done</div>\n",
              "  </td>\n",
              "  <td class='result passed'></td>\n",
              "</tr>\n",
              "<tr>\n",
              "  <td class='test'>\n",
              "    Comprobando si el número 78 es semiperfectos   \n",
              "    <div class='message'>Done</div>\n",
              "  </td>\n",
              "  <td class='result passed'></td>\n",
              "</tr>\n",
              "<tr>\n",
              "  <td class='test'>\n",
              "    Comprobando si el 21 es un número  semiperfectos   \n",
              "    <div class='message'>Done</div>\n",
              "  </td>\n",
              "  <td class='result passed'></td>\n",
              "</tr>  <tr><th class='score'>Total Points</th><th class='score'>3</th></tr></table>\n"
            ]
          },
          "metadata": {}
        }
      ]
    },
    {
      "cell_type": "code",
      "source": [
        "def numeros_perfectos(a):\n",
        "  divisores_propios=[]\n",
        "  for i in range (1,a):                 \n",
        "    if a%i ==0:\n",
        "      divisores_propios.append(i)\n",
        "  if sum(divisores_propios) == a:\n",
        "    return True\n",
        "  else:\n",
        "    return False"
      ],
      "metadata": {
        "id": "7_6nJVI385wo"
      },
      "execution_count": null,
      "outputs": []
    },
    {
      "cell_type": "code",
      "source": [
        "%run -i {pathL}/test05.py"
      ],
      "metadata": {
        "id": "m9bNF9I6qMnD",
        "colab": {
          "base_uri": "https://localhost:8080/",
          "height": 215
        },
        "outputId": "652e6ddd-a4e6-4632-9518-9b720ec4f4f0"
      },
      "execution_count": null,
      "outputs": [
        {
          "output_type": "display_data",
          "data": {
            "text/plain": [
              "<IPython.core.display.HTML object>"
            ],
            "text/html": [
              "<style>\n",
              "  table { text-align: left; border-collapse: collapse; margin: 1em; caption-side: bottom; font-family: Sans-Serif; font-size: 12px}\n",
              "  caption { text-align: left; padding: 5px }\n",
              "  th, td { border: 2px solid #BFC9CA; padding: 5px }\n",
              "  th { background-color: #BFC9CA }\n",
              "  .passed { background-color: #76D7C4 }\n",
              "  .failed { background-color: #EC7063 }\n",
              "  .skipped { background-color: #EDBB99 }\n",
              "  .score { background-color: #7DCEA0 }\n",
              "  .results .points { display: none }\n",
              "  .results .message { display: block; font-size:smaller; color:#D35400 }\n",
              "  .results .note { display: block; font-size:smaller; font-decoration:italics }\n",
              "  .results .passed::before  { content: \"Passed\" } \n",
              "  .results .skipped::before  { content: \"Skipped\" } \n",
              "  .results .failed::before  { content: \"Failed\" } \n",
              "  .grade .passed  .message:empty::before { content:\"Passed\" }\n",
              "  .grade .failed  .message:empty::before { content:\"Failed\" }\n",
              "  .grade .skipped .message:empty::before { content:\"Skipped\" }   \n",
              "</style>\n",
              "<table class='results'>\n",
              "  <th class='test'>Test</th><th class='result'>Result</th></tr>\n",
              "<tr>\n",
              "  <td class='test'>\n",
              "    Números perfectos, la variable debe ser booleana  \n",
              "    <div class='message'>Done</div>\n",
              "  </td>\n",
              "  <td class='result passed'></td>\n",
              "</tr>\n",
              "<tr>\n",
              "  <td class='test'>\n",
              "    Comprobando si el número 33550336 es perfecto   \n",
              "    <div class='message'>Done</div>\n",
              "  </td>\n",
              "  <td class='result passed'></td>\n",
              "</tr>\n",
              "<tr>\n",
              "  <td class='test'>\n",
              "    Comprobando si el 31 es un número  perfecto   \n",
              "    <div class='message'>Done</div>\n",
              "  </td>\n",
              "  <td class='result passed'></td>\n",
              "</tr>  <tr><th class='score'>Total Points</th><th class='score'>3</th></tr></table>\n"
            ]
          },
          "metadata": {}
        }
      ]
    },
    {
      "cell_type": "code",
      "source": [
        "def numeros_primos(a):\n",
        "  divisores_propios=[]\n",
        "  for i in range (1,a):                 \n",
        "    if a%i ==0:\n",
        "      divisores_propios.append(i)\n",
        "  if divisores_propios ==[1]:\n",
        "    return True\n",
        "  else:\n",
        "    return False"
      ],
      "metadata": {
        "id": "XZMfBWFY-dIw"
      },
      "execution_count": null,
      "outputs": []
    },
    {
      "cell_type": "code",
      "source": [
        "numeros_primos(7)\n",
        "numeros_primos(8)\n",
        "numeros_primos(29)\n",
        "numeros_primos(97)"
      ],
      "metadata": {
        "colab": {
          "base_uri": "https://localhost:8080/"
        },
        "id": "FLD_-9yVAKPQ",
        "outputId": "75581f4c-bdfe-4f71-a6d6-f03e1feec6d6"
      },
      "execution_count": null,
      "outputs": [
        {
          "output_type": "execute_result",
          "data": {
            "text/plain": [
              "True"
            ]
          },
          "metadata": {},
          "execution_count": 17
        }
      ]
    },
    {
      "cell_type": "code",
      "source": [
        "%run -i {pathL}/test06.py"
      ],
      "metadata": {
        "id": "4uRbgtG8qN25",
        "colab": {
          "base_uri": "https://localhost:8080/",
          "height": 215
        },
        "outputId": "4be3d903-ea4f-4d20-f1d8-065bd74ae111"
      },
      "execution_count": null,
      "outputs": [
        {
          "output_type": "display_data",
          "data": {
            "text/plain": [
              "<IPython.core.display.HTML object>"
            ],
            "text/html": [
              "<style>\n",
              "  table { text-align: left; border-collapse: collapse; margin: 1em; caption-side: bottom; font-family: Sans-Serif; font-size: 12px}\n",
              "  caption { text-align: left; padding: 5px }\n",
              "  th, td { border: 2px solid #BFC9CA; padding: 5px }\n",
              "  th { background-color: #BFC9CA }\n",
              "  .passed { background-color: #76D7C4 }\n",
              "  .failed { background-color: #EC7063 }\n",
              "  .skipped { background-color: #EDBB99 }\n",
              "  .score { background-color: #7DCEA0 }\n",
              "  .results .points { display: none }\n",
              "  .results .message { display: block; font-size:smaller; color:#D35400 }\n",
              "  .results .note { display: block; font-size:smaller; font-decoration:italics }\n",
              "  .results .passed::before  { content: \"Passed\" } \n",
              "  .results .skipped::before  { content: \"Skipped\" } \n",
              "  .results .failed::before  { content: \"Failed\" } \n",
              "  .grade .passed  .message:empty::before { content:\"Passed\" }\n",
              "  .grade .failed  .message:empty::before { content:\"Failed\" }\n",
              "  .grade .skipped .message:empty::before { content:\"Skipped\" }   \n",
              "</style>\n",
              "<table class='results'>\n",
              "  <th class='test'>Test</th><th class='result'>Result</th></tr>\n",
              "<tr>\n",
              "  <td class='test'>\n",
              "    Números primos, la variable debe ser booleana  \n",
              "    <div class='message'>Done</div>\n",
              "  </td>\n",
              "  <td class='result passed'></td>\n",
              "</tr>\n",
              "<tr>\n",
              "  <td class='test'>\n",
              "    Comprobando si el número 2 es primos   \n",
              "    <div class='message'>Done</div>\n",
              "  </td>\n",
              "  <td class='result passed'></td>\n",
              "</tr>\n",
              "<tr>\n",
              "  <td class='test'>\n",
              "    Comprobando si el 6 es un número  primos   \n",
              "    <div class='message'>Done</div>\n",
              "  </td>\n",
              "  <td class='result passed'></td>\n",
              "</tr>  <tr><th class='score'>Total Points</th><th class='score'>3</th></tr></table>\n"
            ]
          },
          "metadata": {}
        }
      ]
    },
    {
      "cell_type": "markdown",
      "source": [
        "\n",
        "7. Diseñar un programa en el que entrado dos números `a`  y `b` retorne una variable booleana **True** o **false**.\n",
        "\n",
        "  [Números amigos](https://es.wikipedia.org/wiki/N%C3%BAmeros_amigos) `a` y `b` tales que a es la suma de los divisores propios de `b` y viceversa.\n",
        "    La rutina se debera llamar numeros_amigos\n",
        " \n",
        "\n",
        "\n",
        "\n",
        "P2. Retornar los 10 primeros pares de numeros perfectos, semiperfectos, amigos \n",
        "\n"
      ],
      "metadata": {
        "id": "WXOT_ssoJh8x"
      }
    },
    {
      "cell_type": "code",
      "source": [
        "def numeros_amigos(a,b):\n",
        "  divisores_propios_a=[]\n",
        "  for i in range (1,a):                 \n",
        "    if a%i ==0:\n",
        "      divisores_propios_a.append(i) \n",
        "  divisores_propios_b=[]\n",
        "  for i in range (1,b):                 \n",
        "    if b%i ==0:\n",
        "      divisores_propios_b.append(i) \n",
        "  if sum(divisores_propios_a) == b and sum(divisores_propios_b)== a:\n",
        "    return True\n",
        "  else:\n",
        "    return False"
      ],
      "metadata": {
        "id": "X45BjC3FA_cA"
      },
      "execution_count": null,
      "outputs": []
    },
    {
      "cell_type": "code",
      "source": [
        "numeros_amigos(220,284)\n",
        "numeros_amigos(1184, 1210)\n",
        "numeros_amigos(5,7)"
      ],
      "metadata": {
        "colab": {
          "base_uri": "https://localhost:8080/"
        },
        "id": "t4yW72CHbnQe",
        "outputId": "9c8a57da-4997-4247-c9a5-75de369c8804"
      },
      "execution_count": null,
      "outputs": [
        {
          "output_type": "execute_result",
          "data": {
            "text/plain": [
              "False"
            ]
          },
          "metadata": {},
          "execution_count": 20
        }
      ]
    },
    {
      "cell_type": "code",
      "source": [
        "%run -i {pathL}/test07.py"
      ],
      "metadata": {
        "colab": {
          "base_uri": "https://localhost:8080/",
          "height": 215
        },
        "id": "VKsxuvsll5gm",
        "outputId": "3c28d4c2-0558-4b5d-fea2-944f46248197"
      },
      "execution_count": null,
      "outputs": [
        {
          "output_type": "display_data",
          "data": {
            "text/plain": [
              "<IPython.core.display.HTML object>"
            ],
            "text/html": [
              "<style>\n",
              "  table { text-align: left; border-collapse: collapse; margin: 1em; caption-side: bottom; font-family: Sans-Serif; font-size: 12px}\n",
              "  caption { text-align: left; padding: 5px }\n",
              "  th, td { border: 2px solid #BFC9CA; padding: 5px }\n",
              "  th { background-color: #BFC9CA }\n",
              "  .passed { background-color: #76D7C4 }\n",
              "  .failed { background-color: #EC7063 }\n",
              "  .skipped { background-color: #EDBB99 }\n",
              "  .score { background-color: #7DCEA0 }\n",
              "  .results .points { display: none }\n",
              "  .results .message { display: block; font-size:smaller; color:#D35400 }\n",
              "  .results .note { display: block; font-size:smaller; font-decoration:italics }\n",
              "  .results .passed::before  { content: \"Passed\" } \n",
              "  .results .skipped::before  { content: \"Skipped\" } \n",
              "  .results .failed::before  { content: \"Failed\" } \n",
              "  .grade .passed  .message:empty::before { content:\"Passed\" }\n",
              "  .grade .failed  .message:empty::before { content:\"Failed\" }\n",
              "  .grade .skipped .message:empty::before { content:\"Skipped\" }   \n",
              "</style>\n",
              "<table class='results'>\n",
              "  <th class='test'>Test</th><th class='result'>Result</th></tr>\n",
              "<tr>\n",
              "  <td class='test'>\n",
              "    Números amigos, la variable debe ser booleana  \n",
              "    <div class='message'>Done</div>\n",
              "  </td>\n",
              "  <td class='result passed'></td>\n",
              "</tr>\n",
              "<tr>\n",
              "  <td class='test'>\n",
              "    Comprobando si los números (63020, 76084) son amigos   \n",
              "    <div class='message'>Done</div>\n",
              "  </td>\n",
              "  <td class='result passed'></td>\n",
              "</tr>\n",
              "<tr>\n",
              "  <td class='test'>\n",
              "    Comprobando si  (22, 24) no es un número amigo   \n",
              "    <div class='message'>Done</div>\n",
              "  </td>\n",
              "  <td class='result passed'></td>\n",
              "</tr>  <tr><th class='score'>Total Points</th><th class='score'>3</th></tr></table>\n"
            ]
          },
          "metadata": {}
        }
      ]
    },
    {
      "cell_type": "markdown",
      "source": [
        "3. Determine si un número `n` entero ingresado por el usuario es un [palíndromo](https://en.wikipedia.org/wiki/Palindromic_number), (Retorne `True` en caso afirmativo y `False` en caso contrario) \n",
        "\n",
        "```python\n",
        "\n",
        "\n",
        "    >>> palindromo(3333333)\n",
        "        True\n",
        "\n",
        "    >>> palindromo(2323)\n",
        "        True\n",
        "        \n",
        "    >>> palindromo(1111349111111)\n",
        "        False\n",
        "```\n",
        "\n",
        "\n"
      ],
      "metadata": {
        "id": "CTw0tXZlJoDp"
      }
    },
    {
      "cell_type": "code",
      "source": [
        "def palindromo(a):\n",
        "  numeros=str(a)\n",
        "  separacion_digitos= []\n",
        "  for i in numeros:\n",
        "    separacion_digitos.append(i)\n",
        "  reorganizada=separacion_digitos[::-1]\n",
        "  numero_alreves = int(''.join(reorganizada))\n",
        "  if numero_alreves == a:\n",
        "    return True\n",
        "  else:\n",
        "    return False"
      ],
      "metadata": {
        "id": "T9Cay3JCyoYB"
      },
      "execution_count": null,
      "outputs": []
    },
    {
      "cell_type": "code",
      "source": [
        "print(palindromo(3333333))\n",
        "print(palindromo(2323))\n",
        "print(palindromo(1111349111111))\n",
        "print(palindromo(123456654321))"
      ],
      "metadata": {
        "colab": {
          "base_uri": "https://localhost:8080/"
        },
        "id": "acWtlKiOfpyi",
        "outputId": "9c58e6ba-8a95-4146-f478-e121a268b5ba"
      },
      "execution_count": null,
      "outputs": [
        {
          "output_type": "stream",
          "name": "stdout",
          "text": [
            "True\n",
            "False\n",
            "False\n",
            "True\n"
          ]
        }
      ]
    },
    {
      "cell_type": "markdown",
      "source": [
        "8 Construir un programa en el que  entrado un arreglo de números se  ordenen de forma ascendente, Ver algoritmo\n",
        "[Quicksort](https://es.wikipedia.org/wiki/Quicksort). \n",
        "\n",
        "\n",
        "```python\n",
        "\n",
        "\n",
        "<<< v = [22, 32, 42, 12, 22, 31, 41, 11, 12, 232, 24, 12, 22]\n",
        "<<< def quicksort(v):\n",
        "\n",
        "<<<     return v\n",
        "<<< w = print(quicksort(v))\n",
        "<<< [11, 12, 12, 12, 22, 22, 22, 24, 31, 32, 41, 42, 232]\n",
        "\n",
        "```\n",
        "\n",
        "Sólo para comprobar tu código,  puedes hacer uso del comando sort de python. \n",
        "```python\n",
        "<<< b = [22, 32, 42, 12, 22, 31, 41, 11, 12, 232, 24, 12, 22]\n",
        "\n",
        "<<< print(b.sort())\n",
        "\n",
        "<<< [11, 12, 12, 12, 22, 22, 22, 24, 31, 32, 41, 42, 232]\n",
        "```"
      ],
      "metadata": {
        "id": "hBsfPzh_JuZg"
      }
    },
    {
      "cell_type": "code",
      "source": [
        "#creo una función que organiza los elementos de la lista de forma ascendente\n",
        "\n",
        "\n",
        "def organizar(a):\n",
        "  organizada=[]\n",
        "  while len(a)>0:\n",
        "    organizada.append(min(a))      #pongo el minimo de la lista\n",
        "    a.pop(a.index(min(a)))         #quito de la lista original el elemento que he seleccionado como el menor -----> el ciclo se repite hasta que la lista original se ha quedado sin elementos\n",
        "  return organizada "
      ],
      "metadata": {
        "id": "M1uYXvEjhtz_"
      },
      "execution_count": null,
      "outputs": []
    },
    {
      "cell_type": "code",
      "source": [
        "organizar([22, 32, 42, 12, 22, 31, 41, 11, 12, 232, 24, 12, 22])"
      ],
      "metadata": {
        "colab": {
          "base_uri": "https://localhost:8080/"
        },
        "id": "EvZUZR9pl3nr",
        "outputId": "13d07acb-7e05-4fc7-a540-040c9fa156f5"
      },
      "execution_count": null,
      "outputs": [
        {
          "output_type": "execute_result",
          "data": {
            "text/plain": [
              "[11, 12, 12, 12, 22, 22, 22, 24, 31, 32, 41, 42, 232]"
            ]
          },
          "metadata": {},
          "execution_count": 25
        }
      ]
    },
    {
      "cell_type": "code",
      "source": [
        "#uso el método sort para verificar si está correcto\n",
        "\n",
        "b=[22, 32, 42, 12, 22, 31, 41, 11, 12, 232, 24, 12, 22]\n",
        "b.sort()\n",
        "b"
      ],
      "metadata": {
        "colab": {
          "base_uri": "https://localhost:8080/"
        },
        "id": "JdLrtAUEgT_4",
        "outputId": "bb75443b-b77a-430f-f401-4c8fe39be316"
      },
      "execution_count": null,
      "outputs": [
        {
          "output_type": "execute_result",
          "data": {
            "text/plain": [
              "[11, 12, 12, 12, 22, 22, 22, 24, 31, 32, 41, 42, 232]"
            ]
          },
          "metadata": {},
          "execution_count": 28
        }
      ]
    }
  ]
}