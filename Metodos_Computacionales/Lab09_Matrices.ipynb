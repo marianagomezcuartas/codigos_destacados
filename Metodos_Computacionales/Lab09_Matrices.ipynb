{
  "nbformat": 4,
  "nbformat_minor": 0,
  "metadata": {
    "colab": {
      "provenance": []
    },
    "kernelspec": {
      "name": "python3",
      "display_name": "Python 3"
    },
    "language_info": {
      "name": "python"
    }
  },
  "cells": [
    {
      "cell_type": "markdown",
      "source": [
        "<a href=\"https://colab.research.google.com/github/hernansalinas/autogrades/blob/main/Laboratorios_Taller/Lab09_Matrices.ipynb\" target=\"_parent\"><img src=\"https://colab.research.google.com/assets/colab-badge.svg\" alt=\"Open In Colab\"/></a>"
      ],
      "metadata": {
        "id": "zX5mmeZ08lWy"
      }
    },
    {
      "cell_type": "markdown",
      "source": [
        "# Matrices \n",
        "\n",
        "1. **Modelo de población de una especie de pajaros** \n",
        "Se estudiará un modelo de crecimiento de la poblacion para una especie de pájaros. En esta población se supone que el número de pajaros hembras es igual al número de machos.  Sea :\n",
        "- $p_{j,n-1}$ la poblacion juvenil (inmadura) de hembras en el año (n-1) \n",
        "- $p_{a,n-1}$ el numero de hembras adultas en el mismo año.\n",
        "\n",
        "Algunos de los pájaros jóvenes morirán  durante el año. Se suponen que cierta proporción de pájaros $\\alpha$ de los pájaros jovenes sobrevivirán para llegar a adultos en la primavera del año $n$. Cada hembra que sobrevive prdocuce huevos en la primavera, los incupan y producen, en promedio, $k$ pájaros hembras jóvenes en al siguiente primavera. Los adultos también mueren y la proporcion de adultos que sobrevive de una primavera a la siguiente es $\\beta$.\n",
        "\n",
        "Un modelo para el crecimiento poblacional de pajaros \n",
        "\\begin{equation}\n",
        "p_{j,n} = kp_{a, n-1}\n",
        "\\end{equation}\n",
        "\n",
        "\n",
        "\\begin{equation}\n",
        "p_{a,n} =\\alpha p_{j,n-1} + \\beta p_{a, n-1}\n",
        "\\end{equation}\n",
        "\n",
        "Que puede ser escrita como ${\\bf p_n}=A{\\bf p_{n-1}}$, Siendo A la matrix definida en las ecuaciones anteriores, y ${\\bf p_n}$ un vector. Para la evolución temporal se cumple que: \n",
        "\n",
        "- ${\\bf p_1}=A{\\bf p_{0}}$, ${\\bf p_2}=A{\\bf p_{1}}= A(A{\\bf p_0})=A^2{\\bf p_{0}}$ $...$ y asi sucesivamente. Entonces:\n",
        "\n",
        "\\begin{equation}\n",
        "{\\bf p_n} = A^n {\\bf p_{0}}\n",
        "\\end{equation}\n",
        "\n",
        "\n",
        "Supongamos que tenemos 10 hembras  (y 10 machos) adultos y no hay jovenes, la supongmaos que la matriz A viene dada por:\n",
        "\n",
        "\\begin{bmatrix} \n",
        "0 & 2 \\\\\n",
        "0.3 & 0.5 \n",
        "\\end{bmatrix}\n",
        "\n",
        "para la primera poblacion $p_{j,1}=20$, $p_{a,1}=5$, el total de hembras es 25 y la razón jovenes adultas es de 4 a 1. Muestre que la razon $p_{j,n}/p_{a,n}$ converge $1.88$,(como no se puede tener un número racional de pájaros,. aproxime siempre el resultados al menor entero).\n",
        "\n",
        "\n",
        "\n",
        "\n",
        "\n",
        "\n"
      ],
      "metadata": {
        "id": "zRInnDiKcbSB"
      }
    },
    {
      "cell_type": "code",
      "source": [
        "#@title librerías\n",
        "\n",
        "import numpy as np\n",
        "import sympy as sp\n",
        "import matplotlib.pyplot as plt"
      ],
      "metadata": {
        "id": "IFVRiOY98c6H"
      },
      "execution_count": null,
      "outputs": []
    },
    {
      "cell_type": "code",
      "source": [
        "#A es la matriz de coeficientes de la ecuacion de trabajo\n",
        "\n",
        "A = [[0,2],\n",
        "     [0.3,0.5]]\n",
        "\n",
        "m_A = np.array(A)\n",
        "m_A"
      ],
      "metadata": {
        "colab": {
          "base_uri": "https://localhost:8080/"
        },
        "id": "zj0MnlGWWvwD",
        "outputId": "3368522b-ad8c-43b8-a6eb-9bda82f1bb2d"
      },
      "execution_count": null,
      "outputs": [
        {
          "output_type": "execute_result",
          "data": {
            "text/plain": [
              "array([[0. , 2. ],\n",
              "       [0.3, 0.5]])"
            ]
          },
          "metadata": {},
          "execution_count": 2
        }
      ]
    },
    {
      "cell_type": "code",
      "source": [
        "#miramos ahora como es l vector p_n\n",
        "\n",
        "#de acuerdo con los datos dados en el enunciado, como hay 0 poblacion joven y 10 hembras, el vector p1 es:\n",
        "\n",
        "vec = [[0], [10]]\n",
        "\n",
        "p0 = np.array(vec)\n",
        "p0"
      ],
      "metadata": {
        "colab": {
          "base_uri": "https://localhost:8080/"
        },
        "id": "X0DTS-tjWvt7",
        "outputId": "ec676c11-3e0b-4dc8-a102-0247af8bce90"
      },
      "execution_count": null,
      "outputs": [
        {
          "output_type": "execute_result",
          "data": {
            "text/plain": [
              "array([[ 0],\n",
              "       [10]])"
            ]
          },
          "metadata": {},
          "execution_count": 3
        }
      ]
    },
    {
      "cell_type": "code",
      "source": [
        "def mat_power(n):\n",
        "  return np.linalg.matrix_power(m_A,n)"
      ],
      "metadata": {
        "id": "nLUlWWWOWvrz"
      },
      "execution_count": null,
      "outputs": []
    },
    {
      "cell_type": "code",
      "source": [
        "#verificamos como queda la poblacion para el año siguiente\n",
        "\n",
        "p1 = mat_power(1) @ p0\n",
        "p1.astype(int)"
      ],
      "metadata": {
        "id": "LRgsBAQnWvp1",
        "colab": {
          "base_uri": "https://localhost:8080/"
        },
        "outputId": "1037457d-e475-4677-c59a-65195861d44c"
      },
      "execution_count": null,
      "outputs": [
        {
          "output_type": "execute_result",
          "data": {
            "text/plain": [
              "array([[20],\n",
              "       [ 5]])"
            ]
          },
          "metadata": {},
          "execution_count": 5
        }
      ]
    },
    {
      "cell_type": "code",
      "source": [
        "#para hallar la razon pedida, hacemos el primero entre el segundo\n",
        "\n",
        "p1[0] / p1[1]\n",
        "\n",
        "\n",
        "#lo debemos ver por medio de una gráfica para analizar la convergencia"
      ],
      "metadata": {
        "colab": {
          "base_uri": "https://localhost:8080/"
        },
        "id": "AdxToaS9Wvn7",
        "outputId": "b667b105-b55f-47b9-ab40-37741b02a6f4"
      },
      "execution_count": null,
      "outputs": [
        {
          "output_type": "execute_result",
          "data": {
            "text/plain": [
              "array([4.])"
            ]
          },
          "metadata": {},
          "execution_count": 6
        }
      ]
    },
    {
      "cell_type": "code",
      "source": [
        "razon = np.zeros(100)\n",
        "pn = np.zeros((100, 2,1))\n",
        "\n",
        "for i, j in enumerate(range(1,101)):\n",
        "  pn_ = (mat_power(j) @ p0).astype(int)                      #hacemos el astype para garantizar que la población que tenemos es de numeros enteros\n",
        "  cociente = pn_[0] / pn_[1]\n",
        "  razon[i] = cociente\n",
        "  pn[i] = pn_"
      ],
      "metadata": {
        "id": "GePkHzzlWvmO"
      },
      "execution_count": null,
      "outputs": []
    },
    {
      "cell_type": "code",
      "source": [
        "n = np.linspace(0,100, 100)\n",
        "valor = np.array([1.88 for i in n])\n",
        "\n",
        "plt.figure(figsize=(15,8))\n",
        "plt.plot(n, razon, linewidth = 3, label='razon $p_{j,n} / p_{a,n}$')\n",
        "plt.plot(n, valor, 'r--', label= 'valor de convergencia')\n",
        "plt.legend(loc='best')\n",
        "plt.xlabel('años(n)')\n",
        "plt.ylabel('razon $p_{j,n} / p_{a,n}$')\n",
        "plt.show();"
      ],
      "metadata": {
        "colab": {
          "base_uri": "https://localhost:8080/",
          "height": 696
        },
        "id": "8SNz6gWJdxQ2",
        "outputId": "b9e82dce-0490-46ab-bbfd-dcbd5fc5bcb1"
      },
      "execution_count": null,
      "outputs": [
        {
          "output_type": "display_data",
          "data": {
            "text/plain": [
              "<Figure size 1500x800 with 1 Axes>"
            ],
            "image/png": "[encoded data removed]"
          },
          "metadata": {}
        }
      ]
    },
    {
      "cell_type": "markdown",
      "source": [
        "- Para la  solución general del modelo del problema de valores y vetores propios\n",
        "se tiene que:\n",
        "\\begin{equation}\n",
        "p_n=\\lambda_1^n\\left [ a_1 \\vec{v}_1 +\\left( \\frac{\\lambda_2}{\\lambda_1} \\right)^n \\right]a_2 \\vec{v}_2\n",
        "\\end{equation}\n",
        "\n",
        "Asumiendo que $\\lambda_2/ \\lambda_1 < 1$, entonces $(\\lambda_2/ \\lambda_1)^n << 1$ cuando n crece.  Entonce spara n grande se cumple que:\n",
        "\n",
        "donde $p_n=a_1\\lambda_1^n\\vec{v}_1$\n",
        "\n",
        "\n",
        "donde:\n",
        "\n",
        "${\\bf p_0} = a_1 \\vec{v}_1 + a_2 \\vec{v}_2$, con $v_1$ y $v_2$ vectores propios de A"
      ],
      "metadata": {
        "id": "midb9TcTh_Uz"
      }
    },
    {
      "cell_type": "code",
      "source": [
        "#comenzamos con el calculo de los vectores popios de la matriz a\n",
        "\n",
        "v_p = np.linalg.eig(m_A)\n",
        "v_p"
      ],
      "metadata": {
        "colab": {
          "base_uri": "https://localhost:8080/"
        },
        "id": "SZ4NsNELfOEo",
        "outputId": "95d984b5-bbca-467e-80a3-ffc18f0722f0"
      },
      "execution_count": null,
      "outputs": [
        {
          "output_type": "execute_result",
          "data": {
            "text/plain": [
              "(array([-0.56394103,  1.06394103]),\n",
              " array([[-0.96246998, -0.88285203],\n",
              "        [ 0.27138816, -0.46965125]]))"
            ]
          },
          "metadata": {},
          "execution_count": 9
        }
      ]
    },
    {
      "cell_type": "code",
      "source": [
        "#vectores propios de la matriz A\n",
        "\n",
        "v_p_1 = v_p[1][:,0]          #tomar la primera columna\n",
        "v_p_2 = v_p[1][:,1]          #tomar la segunda columna\n",
        "\n",
        "v_p_1, v_p_2"
      ],
      "metadata": {
        "colab": {
          "base_uri": "https://localhost:8080/"
        },
        "id": "JrxkDQZKkIqb",
        "outputId": "bfa4a154-557e-4e62-8d5d-f9e5eba0f307"
      },
      "execution_count": null,
      "outputs": [
        {
          "output_type": "execute_result",
          "data": {
            "text/plain": [
              "(array([-0.96246998,  0.27138816]), array([-0.88285203, -0.46965125]))"
            ]
          },
          "metadata": {},
          "execution_count": 10
        }
      ]
    },
    {
      "cell_type": "code",
      "source": [
        "#valores propios de la matriz A\n",
        "\n",
        "val_prop = v_p[0]\n",
        "val_prop"
      ],
      "metadata": {
        "colab": {
          "base_uri": "https://localhost:8080/"
        },
        "id": "S5y9Z6_8klNv",
        "outputId": "f3e14064-564a-40ac-847a-d41a541645c9"
      },
      "execution_count": null,
      "outputs": [
        {
          "output_type": "execute_result",
          "data": {
            "text/plain": [
              "array([-0.56394103,  1.06394103])"
            ]
          },
          "metadata": {},
          "execution_count": 11
        }
      ]
    },
    {
      "cell_type": "code",
      "source": [
        "p0"
      ],
      "metadata": {
        "colab": {
          "base_uri": "https://localhost:8080/"
        },
        "id": "r0lsnpadlVBX",
        "outputId": "59be8fe0-964b-43bd-b230-794104c35c07"
      },
      "execution_count": null,
      "outputs": [
        {
          "output_type": "execute_result",
          "data": {
            "text/plain": [
              "array([[ 0],\n",
              "       [10]])"
            ]
          },
          "metadata": {},
          "execution_count": 12
        }
      ]
    },
    {
      "cell_type": "code",
      "source": [
        "#la idea ahora es resolver el sistema po = a1 v1 + a2 v2\n",
        "\n",
        "a = np.array([[v_p_1[0], v_p_2[0]], [v_p_1[1], v_p_2[1]]])\n",
        "b = p0\n",
        "x = np.linalg.solve(a, b)\n",
        "x"
      ],
      "metadata": {
        "colab": {
          "base_uri": "https://localhost:8080/"
        },
        "id": "H7Bz9_fElU_S",
        "outputId": "5515d312-62a5-45bc-b88b-2f0f6b910b1c"
      },
      "execution_count": null,
      "outputs": [
        {
          "output_type": "execute_result",
          "data": {
            "text/plain": [
              "array([[ 12.76497195],\n",
              "       [-13.91615122]])"
            ]
          },
          "metadata": {},
          "execution_count": 13
        }
      ]
    },
    {
      "cell_type": "code",
      "source": [
        "a1, a2 = x[0], x[1]\n",
        "\n",
        "a1, a2"
      ],
      "metadata": {
        "colab": {
          "base_uri": "https://localhost:8080/"
        },
        "id": "oXXx-ukIlU9W",
        "outputId": "7ee3da9d-31d0-4583-d207-664099fbd256"
      },
      "execution_count": null,
      "outputs": [
        {
          "output_type": "execute_result",
          "data": {
            "text/plain": [
              "(array([12.76497195]), array([-13.91615122]))"
            ]
          },
          "metadata": {},
          "execution_count": 14
        }
      ]
    },
    {
      "cell_type": "markdown",
      "source": [
        "\\begin{equation}\n",
        "p_n=\\lambda_1^n\\left [ a_1 \\vec{v}_1 +\\left( \\frac{\\lambda_2}{\\lambda_1} \\right)^n \\right]a_2 \\vec{v}_2\n",
        "\\end{equation}"
      ],
      "metadata": {
        "id": "5uwAAymvEPJ7"
      }
    },
    {
      "cell_type": "code",
      "source": [
        "#verificamos ahora si se satisface la relación planteada en el enunciado\n",
        "\n",
        "def pn_(n):\n",
        "  t1 = val_prop[0] ** n * a1 * v_p_1\n",
        "  t2 = val_prop[0]**n *(abs(val_prop[1] / val_prop[0]) ** n) * a2 * v_p_2\n",
        "  return (t1 + t2).astype(int)"
      ],
      "metadata": {
        "id": "hQqOQzIslU7k"
      },
      "execution_count": null,
      "outputs": []
    },
    {
      "cell_type": "code",
      "source": [
        "pn[0:10]"
      ],
      "metadata": {
        "colab": {
          "base_uri": "https://localhost:8080/"
        },
        "id": "TX3rrmgUH-vg",
        "outputId": "5d392337-79ef-43eb-f9f9-668b4422e84e"
      },
      "execution_count": null,
      "outputs": [
        {
          "output_type": "execute_result",
          "data": {
            "text/plain": [
              "array([[[20.],\n",
              "        [ 5.]],\n",
              "\n",
              "       [[10.],\n",
              "        [ 8.]],\n",
              "\n",
              "       [[17.],\n",
              "        [ 7.]],\n",
              "\n",
              "       [[14.],\n",
              "        [ 8.]],\n",
              "\n",
              "       [[17.],\n",
              "        [ 8.]],\n",
              "\n",
              "       [[17.],\n",
              "        [ 9.]],\n",
              "\n",
              "       [[19.],\n",
              "        [10.]],\n",
              "\n",
              "       [[20.],\n",
              "        [10.]],\n",
              "\n",
              "       [[21.],\n",
              "        [11.]],\n",
              "\n",
              "       [[22.],\n",
              "        [12.]]])"
            ]
          },
          "metadata": {},
          "execution_count": 16
        }
      ]
    },
    {
      "cell_type": "code",
      "source": [
        "pn_(0)"
      ],
      "metadata": {
        "colab": {
          "base_uri": "https://localhost:8080/"
        },
        "id": "Oux9aKiuEs7_",
        "outputId": "cab005e1-11bd-4f83-cc34-3fd6ea905ba2"
      },
      "execution_count": null,
      "outputs": [
        {
          "output_type": "execute_result",
          "data": {
            "text/plain": [
              "array([ 0, 10])"
            ]
          },
          "metadata": {},
          "execution_count": 17
        }
      ]
    },
    {
      "cell_type": "code",
      "source": [
        "pn_(1)   "
      ],
      "metadata": {
        "colab": {
          "base_uri": "https://localhost:8080/"
        },
        "id": "wlIpLXWPlU5J",
        "outputId": "10205581-2729-4ce4-bcf9-945a9b40d3b1"
      },
      "execution_count": null,
      "outputs": [
        {
          "output_type": "execute_result",
          "data": {
            "text/plain": [
              "array([-6, -8])"
            ]
          },
          "metadata": {},
          "execution_count": 18
        }
      ]
    },
    {
      "cell_type": "markdown",
      "source": [
        "observamos que la formula general no se cumple, aun si rezalizamos algunas modificaciones. Queda pendiente revisarla"
      ],
      "metadata": {
        "id": "AAD7ZZyFEHGr"
      }
    },
    {
      "cell_type": "markdown",
      "source": [
        "2. **Modelo de encriptación** \n",
        "\n",
        "Un proceso para encriptar un mensaje secreto es usar cierta matrix cuadrada cuyos elementos son enteros con elementos enteros en la inversa. Se recibe un mensaje, se asigna un número a cada letra Por ejemplo, A=1, B=2, C=3, ... etc y espacio=27), se arreglan los números en una matriz de izquierda a derecha en cada fila, donde el número de elementos en la fila es igual al tamano de la matriz de codigo, se multiplica esa matriz por la matriz de código por la derecha, se transcribe el mensaje en una cadena de números y se manda el mensaje. \n",
        "\n",
        "La persona que debe recibir el mensaje conoce la matriz de codigo. El o ellla arrelgan el mensaje encriptado en una matriz de izquierda a derecha en cada fila, en donde el numero de elementos en una fila conicide con el tamano de la matriz de codigo muplicada por la derecha, por el inverso de la matriz de código y puede leer mensaje decodificado.\n",
        "\n",
        "Usted a recibido el siguiente mensaje que fue encriptado usando la matriz A. Decodifiquelo.\n",
        "\n",
        "```\n",
        "matrix([[ 1,  2, -3,  4,  5],\n",
        "        [-2, -5,  8, -8, -9],\n",
        "        [ 1,  2, -2,  7,  9],\n",
        "        [ 1,  1,  0,  6, 12],\n",
        "        [ 2,  4, -6,  8, 11]])\n",
        "```\n",
        "\n",
        "Mensaje\n",
        "\n",
        "47,49,-19,257,487,10,-9,63,137,236, 79,142,-184,372,536,59,70,-40,332,588, \n",
        "\n",
        "la primera fila del mensaje es 47,49,-19,257,487\n",
        "\n",
        "¿Cual es el mensaje?\n",
        "\n",
        "\n",
        "\n",
        "\n",
        "\n",
        "\n"
      ],
      "metadata": {
        "id": "AZZf8zjTWtiV"
      }
    },
    {
      "cell_type": "code",
      "source": [
        "#@title librerías\n",
        "\n",
        "import numpy as np\n",
        "from numpy import matrix"
      ],
      "metadata": {
        "id": "CDI5UoXmcd6U"
      },
      "execution_count": null,
      "outputs": []
    },
    {
      "cell_type": "code",
      "source": [
        "#@title comenzamos con la escitura de la matriz de encriptacion\n",
        "\n",
        "A = matrix([[ 1,  2, -3,  4,  5],\n",
        "        [-2, -5,  8, -8, -9],\n",
        "        [ 1,  2, -2,  7,  9],\n",
        "        [ 1,  1,  0,  6, 12],\n",
        "        [ 2,  4, -6,  8, 11]])"
      ],
      "metadata": {
        "id": "5GAuzcD1ov1q"
      },
      "execution_count": null,
      "outputs": []
    },
    {
      "cell_type": "code",
      "source": [
        "np.shape(A)"
      ],
      "metadata": {
        "colab": {
          "base_uri": "https://localhost:8080/"
        },
        "id": "f21u4Wro4Us2",
        "outputId": "e52682ef-dd63-45e3-f0f7-84e21de4ed8f"
      },
      "execution_count": null,
      "outputs": [
        {
          "output_type": "execute_result",
          "data": {
            "text/plain": [
              "(5, 5)"
            ]
          },
          "metadata": {},
          "execution_count": 21
        }
      ]
    },
    {
      "cell_type": "markdown",
      "source": [
        "Mensaje\n",
        "\n",
        "47,49,-19,257,487,10,-9,63,137,236, 79,142,-184,372,536,59,70,-40,332,588, \n",
        "\n",
        "la primera fila del mensaje es 47,49,-19,257,487\n",
        "\n",
        "¿Cual es el mensaje?\n"
      ],
      "metadata": {
        "id": "kj-7Yj9NwO3r"
      }
    },
    {
      "cell_type": "code",
      "source": [
        "#@title continuamos con la escritura de la matriz que contiene el mensaje\n",
        "\n",
        "M = matrix([[47,49,-19,257,487],\n",
        "        [10,-9,63,137,236],\n",
        "        [ 79,142,-184,372,536],\n",
        "        [ 59,70,-40,332,588]])\n",
        "np.shape(M)"
      ],
      "metadata": {
        "id": "mVgi4t5LpCL8",
        "colab": {
          "base_uri": "https://localhost:8080/"
        },
        "outputId": "1c0f52e5-7b3b-463d-c669-02d4411f5954"
      },
      "execution_count": null,
      "outputs": [
        {
          "output_type": "execute_result",
          "data": {
            "text/plain": [
              "(4, 5)"
            ]
          },
          "metadata": {},
          "execution_count": 22
        }
      ]
    },
    {
      "cell_type": "code",
      "source": [
        "#@title encontramos el inverso de la matriz de código\n",
        "\n",
        "inv = A.I\n",
        "inv"
      ],
      "metadata": {
        "id": "Eek-gVJBpCIX",
        "colab": {
          "base_uri": "https://localhost:8080/"
        },
        "outputId": "79d34dbd-0afe-472e-f48b-97aef88e9d7f"
      },
      "execution_count": null,
      "outputs": [
        {
          "output_type": "execute_result",
          "data": {
            "text/plain": [
              "matrix([[ 14.,   1.,  -2.,   1.,  -5.],\n",
              "        [ 22.,  -7.,  -4.,   6., -19.],\n",
              "        [ 13.,  -3.,  -2.,   3., -10.],\n",
              "        [ -2.,   1.,   1.,  -1.,   2.],\n",
              "        [ -2.,  -0.,  -0.,  -0.,   1.]])"
            ]
          },
          "metadata": {},
          "execution_count": 23
        }
      ]
    },
    {
      "cell_type": "code",
      "source": [
        "#@title para hallar la matriz que contiene el mensaje, multiplicamos la matriz encriptada con el inverso de la matriz de código por la derecha\n",
        "\n",
        "matriz = M @ inv\n",
        "\n",
        "matriz"
      ],
      "metadata": {
        "id": "72iYpu4YpCFB",
        "colab": {
          "base_uri": "https://localhost:8080/"
        },
        "outputId": "2b35717b-b772-4b2a-d7f0-8f560970482a"
      },
      "execution_count": null,
      "outputs": [
        {
          "output_type": "execute_result",
          "data": {
            "text/plain": [
              "matrix([[ 1., 18.,  5., 27., 25.],\n",
              "        [15., 21., 27.,  8.,  1.],\n",
              "        [22.,  9., 14.,  7., 27.],\n",
              "        [ 6., 21., 14., 27., 27.]])"
            ]
          },
          "metadata": {},
          "execution_count": 24
        }
      ]
    },
    {
      "cell_type": "code",
      "source": [
        "#@title asignación alfabética\n",
        "\n",
        "import numpy as np\n",
        "\n",
        "# Definir el diccionario letras_numeros\n",
        "letras_numeros = {\n",
        "    'A': 1, 'B': 2, 'C': 3, 'D': 4, 'E': 5, 'F': 6, 'G': 7, 'H': 8, 'I': 9, 'J': 10,\n",
        "    'K': 11, 'L': 12, 'M': 13, 'N': 14, 'O': 15, 'P': 16, 'Q': 17, 'R': 18, 'S': 19,\n",
        "    'T': 20, 'U': 21, 'V': 22, 'W': 23, 'X': 24, 'Y': 25, 'Z': 26, ' ': 27\n",
        "}"
      ],
      "metadata": {
        "id": "jccHxvdUpCBY"
      },
      "execution_count": null,
      "outputs": []
    },
    {
      "cell_type": "code",
      "source": [
        "# Definir la función buscar_valor para la correspondencia entre números y letras\n",
        "\n",
        "@np.vectorize\n",
        "def buscar_valor(x):\n",
        "    if isinstance(x, int) and 1 <= x <= 27:\n",
        "        letra_correspondiente = list(letras_numeros.keys())[list(letras_numeros.values()).index(x)]            #en la lista de claves, ubicamos el que correponde al indice de los valores del diccionario\n",
        "        return letra_correspondiente"
      ],
      "metadata": {
        "id": "6khqLG9lpB97"
      },
      "execution_count": null,
      "outputs": []
    },
    {
      "cell_type": "code",
      "source": [
        "matriz"
      ],
      "metadata": {
        "colab": {
          "base_uri": "https://localhost:8080/"
        },
        "id": "Y8AMWAI9-vMs",
        "outputId": "12d9099b-18f5-4128-8dcd-f6d90a40cf1a"
      },
      "execution_count": null,
      "outputs": [
        {
          "output_type": "execute_result",
          "data": {
            "text/plain": [
              "matrix([[ 1., 18.,  5., 27., 25.],\n",
              "        [15., 21., 27.,  8.,  1.],\n",
              "        [22.,  9., 14.,  7., 27.],\n",
              "        [ 6., 21., 14., 27., 27.]])"
            ]
          },
          "metadata": {},
          "execution_count": 27
        }
      ]
    },
    {
      "cell_type": "code",
      "source": [
        "from numpy.core.multiarray import asarray\n",
        "\n",
        "#aplicamos ahora la función aterior, para encontrar las correspondencias\n",
        "\n",
        "matriz = asarray(matriz)                   #redefino mi matriz como un objeto array de numpy\n",
        "matriz_enteros = np.round(matriz).astype(int)"
      ],
      "metadata": {
        "id": "4H29HjeXo5xY"
      },
      "execution_count": null,
      "outputs": []
    },
    {
      "cell_type": "code",
      "source": [
        "#como la función está vectorizada, podemos aplicarla a nuestro array\n",
        "\n",
        "msg = buscar_valor(matriz_enteros)\n",
        "msg"
      ],
      "metadata": {
        "colab": {
          "base_uri": "https://localhost:8080/"
        },
        "id": "A8MCNNBKALlE",
        "outputId": "c4ef68e4-91d7-4da5-944e-6644e9b4c935"
      },
      "execution_count": null,
      "outputs": [
        {
          "output_type": "execute_result",
          "data": {
            "text/plain": [
              "array([['A', 'R', 'E', ' ', 'Y'],\n",
              "       ['O', 'U', ' ', 'H', 'A'],\n",
              "       ['V', 'I', 'N', 'G', ' '],\n",
              "       ['F', 'U', 'N', ' ', ' ']], dtype=object)"
            ]
          },
          "metadata": {},
          "execution_count": 29
        }
      ]
    },
    {
      "cell_type": "code",
      "source": [
        "union = np.zeros(np.shape(msg)[0], dtype= object)\n",
        "\n",
        "for i, j in enumerate(msg):\n",
        "  union[i] = ''.join(j)\n",
        "\n",
        "union"
      ],
      "metadata": {
        "colab": {
          "base_uri": "https://localhost:8080/"
        },
        "id": "lIQHTHPoAXht",
        "outputId": "b894d7a5-ab1a-4f3d-add2-b58a3caf4b1d"
      },
      "execution_count": null,
      "outputs": [
        {
          "output_type": "execute_result",
          "data": {
            "text/plain": [
              "array(['ARE Y', 'OU HA', 'VING ', 'FUN  '], dtype=object)"
            ]
          },
          "metadata": {},
          "execution_count": 30
        }
      ]
    },
    {
      "cell_type": "code",
      "source": [
        "union_final= ''.join(union)\n",
        "print(f'el mensaje encriptado que es dado es: {union_final}')"
      ],
      "metadata": {
        "colab": {
          "base_uri": "https://localhost:8080/"
        },
        "id": "urFxkgUNCrB-",
        "outputId": "c6ac37b2-5e4e-4315-a88a-0c47659d4dab"
      },
      "execution_count": null,
      "outputs": [
        {
          "output_type": "stream",
          "name": "stdout",
          "text": [
            "el mensaje encriptado que es dado es: ARE YOU HAVING FUN  \n"
          ]
        }
      ]
    },
    {
      "cell_type": "markdown",
      "source": [
        "3. **Diagonalización**.\n",
        "\n",
        "Se sabe que un sistema físico es gobernado por las ecuaciones,\n",
        "\n",
        "\n",
        "\n",
        "$$\n",
        "\\begin{matrix}\n",
        "x' &=& 2x&-y&+z, \\\\\n",
        "y' &=&   &3y&-1z, \\\\\n",
        "z' &=& 2x&+y&+3z,\n",
        "\\end{matrix}\n",
        "$$\n",
        "\n",
        "donde $x',y',z'$ son las derivadas, en forma vectorial esto se puede representar como $\\mathbf{r}'=A\\mathbf{r}$ que tiene solución analítica general, $\\mathbf{r} = e^{At} \\mathbf{r}(0)$.<br> \n",
        "a) Diagonalize $A$.<br> \n",
        "\n",
        "b) Use el hecho de que $f(A) =U f(D) U^{-1}$ para encontrar $x(t),y(t),z(t)$ en el intervalo de tiempo $[0,2]$.<br>.\n",
        "c) Grafique $x(t),y(t),z(t)$ (use la condición inicial $\\mathbf{r}(0)=(1,1,2))$.<br> \n",
        "d) Compare el resultado a la solución analítica,\n",
        "\n",
        "$$\n",
        "\\begin{align}\n",
        "2x & = x(0)(e^{2t}(1+e^{2t}-2t)) + y(0) (-2te^{2t}) + z(0)(e^{2t}(-1+e^{2t})), \\\\\n",
        "2y & = x(0)(-e^{2t}(-1+e^{2t}-2t)) + y(0)(2(t+1)e^{2t}) + z(0)(-e^{2t}(-1+e^{2t})), \\\\\n",
        "2z & = x(0)(e^{2t}(-1+e^{2t}+2t)) + y(0)(2te^{2t}) + z(0)(e^{2t}(1+e^{2t})).\n",
        "\\end{align}\n",
        "$$\n"
      ],
      "metadata": {
        "id": "ptWEnv5CpAk4"
      }
    },
    {
      "cell_type": "code",
      "source": [
        "#@title librerías\n",
        "\n",
        "import numpy as np\n",
        "import matplotlib.pyplot as plt\n",
        "from scipy.linalg import expm, inv"
      ],
      "metadata": {
        "id": "Zf1PyC6BpA4t"
      },
      "execution_count": 20,
      "outputs": []
    },
    {
      "cell_type": "markdown",
      "source": [
        "##a) Diagonalize  A ."
      ],
      "metadata": {
        "id": "wT8-SwSsugz4"
      }
    },
    {
      "cell_type": "code",
      "source": [
        "#@title comenzamos por definir la matriz A\n",
        "\n",
        "A = np.array([[2, -1, 1],\n",
        "     [0, 3, -1],\n",
        "     [2, 1, 3]])"
      ],
      "metadata": {
        "id": "Rus-7-YiEd5P"
      },
      "execution_count": 2,
      "outputs": []
    },
    {
      "cell_type": "markdown",
      "source": [
        "Para diagonalizar una matriz $A$, se necesita encontrar una matriz invertible $P$ tal que $P^{-1}AP$ sea una matriz diagonal $D$. Esto significa que las columnas de $P$ son los autovectores de $A$ y los elementos de la diagonal de $D$ son los autovalores correspondientes de $A$."
      ],
      "metadata": {
        "id": "zpIdscw6FJ1N"
      }
    },
    {
      "cell_type": "code",
      "source": [
        "#@title procedemos a diagonalizarla\n",
        "\n",
        "#comenzamos encontrando los vectores propios\n",
        "\n",
        "eig = np.linalg.eig(A)\n",
        "\n",
        "P = eig[1]          #P es la matriz de vectores propios\n",
        "P_inv = np.linalg.inv(P)\n",
        "\n",
        "D= P_inv @ A @ P\n",
        "\n",
        "D"
      ],
      "metadata": {
        "colab": {
          "base_uri": "https://localhost:8080/"
        },
        "id": "CczjMNRsEu2H",
        "outputId": "fc566256-6b03-4490-c33d-f4c25044234d"
      },
      "execution_count": 3,
      "outputs": [
        {
          "output_type": "execute_result",
          "data": {
            "text/plain": [
              "array([[ 4.00000000e+00+0.00000000e+00j, -1.52842194e-16-2.31659544e-24j,\n",
              "        -1.52842194e-16+2.31659544e-24j],\n",
              "       [-2.38477860e-16-2.55204589e-08j,  2.00000000e+00+4.98918440e-09j,\n",
              "         4.44089210e-16-1.14010335e-08j],\n",
              "       [-6.61406338e-16+2.55204589e-08j,  4.44089210e-16+1.18761122e-08j,\n",
              "         2.00000000e+00-5.46426318e-09j]])"
            ]
          },
          "metadata": {},
          "execution_count": 3
        }
      ]
    },
    {
      "cell_type": "code",
      "source": [
        "eig"
      ],
      "metadata": {
        "colab": {
          "base_uri": "https://localhost:8080/"
        },
        "id": "xwysQom8Exki",
        "outputId": "1dc1a126-8f1c-4291-a32f-4770d6dd630e"
      },
      "execution_count": 4,
      "outputs": [
        {
          "output_type": "execute_result",
          "data": {
            "text/plain": [
              "(array([4.+0.00000000e+00j, 2.+1.68652966e-08j, 2.-1.68652966e-08j]),\n",
              " array([[-0.57735027+0.00000000e+00j, -0.57735027+9.73718355e-09j,\n",
              "         -0.57735027-9.73718355e-09j],\n",
              "        [ 0.57735027+0.00000000e+00j,  0.57735027+0.00000000e+00j,\n",
              "          0.57735027-0.00000000e+00j],\n",
              "        [-0.57735027+0.00000000e+00j,  0.57735027-9.73718355e-09j,\n",
              "          0.57735027+9.73718355e-09j]]))"
            ]
          },
          "metadata": {},
          "execution_count": 4
        }
      ]
    },
    {
      "cell_type": "markdown",
      "source": [
        "## b) Use el hecho de que  f(A)=Uf(D)U−1  para encontrar  x(t),y(t),z(t)  en el intervalo de tiempo  [0,2] .\n",
        "\n",
        "observamos que la forma en la cual nos piden escribir la matriz, es como su descomposicion espectral\n",
        "\n",
        "U va ser la matriz formada por los vectores propios de A\n",
        "\n",
        "D va ser la matriz diagonal de A"
      ],
      "metadata": {
        "id": "Sms4rcAructH"
      }
    },
    {
      "cell_type": "code",
      "source": [
        "#matriz de vectores propios de A\n",
        "\n",
        "U = eig[1]"
      ],
      "metadata": {
        "id": "WSYnBYHis67F"
      },
      "execution_count": 18,
      "outputs": []
    },
    {
      "cell_type": "markdown",
      "source": [
        "Para calcular la solucion al sistema, debemos usar $r(t) = e^{At} \\mathbf{r}(0) = U e^{Dt} U^{-1} \\mathbf{r}(0)$."
      ],
      "metadata": {
        "id": "GGKOuAR-knQb"
      }
    },
    {
      "cell_type": "code",
      "source": [
        "#establecimiento de las condiciones iniciales\n",
        "\n",
        "x0 = 1 #@param {type:\"slider\", min:0, max:20, step:1}\n",
        "y0 = 1 #@param {type:\"slider\", min:0, max:20, step:1}\n",
        "z0 = 2 #@param {type:\"slider\", min:0, max:20, step:1}"
      ],
      "metadata": {
        "id": "kH_usPdyrBjR"
      },
      "execution_count": 21,
      "outputs": []
    },
    {
      "cell_type": "code",
      "source": [
        "t = np.linspace(0,2, 100)"
      ],
      "metadata": {
        "id": "KO0VpjRSsHb2"
      },
      "execution_count": 24,
      "outputs": []
    },
    {
      "cell_type": "code",
      "source": [
        "def sol(t):\n",
        "  '''ingrese los valores de tiempo para los cuales quiere calcular la solución'''\n",
        "\n",
        "  r_t = np.zeros((len(t), 3))  # Crear matriz para almacenar la solución (100 vectores de tamaño 3 cada uno)\n",
        "\n",
        "  U_inv = np.linalg.inv(U)\n",
        "  r0 = np.array([x0, y0, z0])\n",
        "\n",
        "  for i, time in enumerate(t):\n",
        "      exp_D = expm(D * time)              # Exponencial de la matriz D * t\n",
        "      r_t[i] = U @ exp_D @ U_inv @ r0      # Calcular la solución para cada valor de tiempo\n",
        "\n",
        "  return r_t"
      ],
      "metadata": {
        "id": "QPBs4wFWsL3g"
      },
      "execution_count": 39,
      "outputs": []
    },
    {
      "cell_type": "code",
      "source": [
        "solucion= sol(t)"
      ],
      "metadata": {
        "colab": {
          "base_uri": "https://localhost:8080/"
        },
        "id": "4Us2yCj_snLm",
        "outputId": "8a31aaec-ac26-4596-8d5c-9da484856785"
      },
      "execution_count": 41,
      "outputs": [
        {
          "output_type": "stream",
          "name": "stderr",
          "text": [
            "<ipython-input-39-bac008215d9d>:11: ComplexWarning: Casting complex values to real discards the imaginary part\n",
            "  r_t[i] = U @ exp_D @ U_inv @ r0      # Calcular la solución para cada valor de tiempo\n"
          ]
        }
      ]
    },
    {
      "cell_type": "code",
      "source": [
        "np.shape(sol(t))"
      ],
      "metadata": {
        "colab": {
          "base_uri": "https://localhost:8080/"
        },
        "id": "kFfYngm6snGH",
        "outputId": "666ccadf-9a47-430e-9f53-0b5f343c96f6"
      },
      "execution_count": 42,
      "outputs": [
        {
          "output_type": "stream",
          "name": "stderr",
          "text": [
            "<ipython-input-39-bac008215d9d>:11: ComplexWarning: Casting complex values to real discards the imaginary part\n",
            "  r_t[i] = U @ exp_D @ U_inv @ r0      # Calcular la solución para cada valor de tiempo\n"
          ]
        },
        {
          "output_type": "execute_result",
          "data": {
            "text/plain": [
              "(100, 3)"
            ]
          },
          "metadata": {},
          "execution_count": 42
        }
      ]
    },
    {
      "cell_type": "code",
      "source": [
        "x = sol(t)[:,0]\n",
        "y = sol(t)[:,1]\n",
        "z = sol(t)[:,2]"
      ],
      "metadata": {
        "colab": {
          "base_uri": "https://localhost:8080/"
        },
        "id": "tZm-aer0vLV6",
        "outputId": "68e1da1d-ec5e-44a2-8c32-82ba0e930366"
      },
      "execution_count": 43,
      "outputs": [
        {
          "output_type": "stream",
          "name": "stderr",
          "text": [
            "<ipython-input-39-bac008215d9d>:11: ComplexWarning: Casting complex values to real discards the imaginary part\n",
            "  r_t[i] = U @ exp_D @ U_inv @ r0      # Calcular la solución para cada valor de tiempo\n"
          ]
        }
      ]
    },
    {
      "cell_type": "code",
      "source": [
        "fig = plt.figure()\n",
        "ax = fig.add_subplot(111, projection='3d')\n",
        "\n",
        "ax.plot(x, y, z)\n",
        "ax.set_xlabel(\"x\")\n",
        "ax.set_ylabel(\"y\")\n",
        "ax.set_zlabel(\"z\")\n",
        "plt.show()"
      ],
      "metadata": {
        "colab": {
          "base_uri": "https://localhost:8080/",
          "height": 412
        },
        "id": "Jq9KCAZrvUz_",
        "outputId": "600c8751-a69c-4145-818d-e86b26e45c3f"
      },
      "execution_count": 44,
      "outputs": [
        {
          "output_type": "display_data",
          "data": {
            "text/plain": [
              "<Figure size 640x480 with 1 Axes>"
            ],
            "image/png": "[encoded data removed]"
          },
          "metadata": {}
        }
      ]
    },
    {
      "cell_type": "markdown",
      "source": [
        "##c) Grafique x(t),y(t),z(t) (use la condición inicial  r(0)=(1,1,2))"
      ],
      "metadata": {
        "id": "f7EMEeedEafc"
      }
    },
    {
      "cell_type": "markdown",
      "source": [
        "La grafica que se pide fué realizada en el numeral b y c"
      ],
      "metadata": {
        "id": "zsdZkmq-v71e"
      }
    },
    {
      "cell_type": "markdown",
      "source": [
        "##d) Compare el resultado a la solución analítica,\n",
        "\n",
        "$$\n",
        "\\begin{align}\n",
        "2x & = x(0)(e^{2t}(1+e^{2t}-2t)) + y(0) (-2te^{2t}) + z(0)(e^{2t}(-1+e^{2t})), \\\\\n",
        "2y & = x(0)(-e^{2t}(-1+e^{2t}-2t)) + y(0)(2(t+1)e^{2t}) + z(0)(-e^{2t}(-1+e^{2t})), \\\\\n",
        "2z & = x(0)(e^{2t}(-1+e^{2t}+2t)) + y(0)(2te^{2t}) + z(0)(e^{2t}(1+e^{2t})).\n",
        "\\end{align}\n",
        "$$"
      ],
      "metadata": {
        "id": "pZRV4iq_Ec_Z"
      }
    },
    {
      "cell_type": "code",
      "source": [
        "#establecimiento de las condiciones iniciales\n",
        "\n",
        "x0 = 1 #@param {type:\"slider\", min:0, max:20, step:1}\n",
        "y0 = 1 #@param {type:\"slider\", min:0, max:20, step:1}\n",
        "z0 = 2 #@param {type:\"slider\", min:0, max:20, step:1}"
      ],
      "metadata": {
        "id": "Jkrghg6AEgk3"
      },
      "execution_count": 5,
      "outputs": []
    },
    {
      "cell_type": "code",
      "source": [
        "#definimos las funciones\n",
        "\n",
        "#@np.vectorize\n",
        "def r(t):\n",
        "  '''ingresar los valores de tiempo como un arreglo de numpy'''\n",
        "\n",
        "  exp = np.exp(2*t)          #expresion que se usa en repetidas ocasiones en las ecuaciones\n",
        "\n",
        "  x = (1/2) * x0 * (exp * (1 + exp - 2*t))   + y0 * (-2 * t * exp)      + z0 * (exp * (-1 + exp))\n",
        "  y = (1/2) * x0 * (-exp * (-1 + exp - 2*t)) + y0 * (2 * (t + 1) * exp) + z0 * (-exp * (-1 + exp))\n",
        "  z = (1/2) * x0 * (exp * (-1 + exp + 2*t))  + y0 * (2 * t * exp)       + z0 * (exp * (1 + exp))\n",
        "\n",
        "  return np.array([x, y, z])"
      ],
      "metadata": {
        "id": "_5K3SgDoF2sj"
      },
      "execution_count": 6,
      "outputs": []
    },
    {
      "cell_type": "code",
      "source": [
        "t = np.linspace(0, 2, 100)"
      ],
      "metadata": {
        "id": "ZOxFHa-rIzmU"
      },
      "execution_count": 13,
      "outputs": []
    },
    {
      "cell_type": "code",
      "source": [
        "pos = r(t)\n",
        "np.shape(pos)"
      ],
      "metadata": {
        "colab": {
          "base_uri": "https://localhost:8080/"
        },
        "id": "WA094OmbI6Nu",
        "outputId": "3c12652a-6c90-48df-8539-2c28f24a2d66"
      },
      "execution_count": 14,
      "outputs": [
        {
          "output_type": "execute_result",
          "data": {
            "text/plain": [
              "(3, 100)"
            ]
          },
          "metadata": {},
          "execution_count": 14
        }
      ]
    },
    {
      "cell_type": "code",
      "source": [
        "#procedemos ahora a realizar el gráfico tridimensional\n",
        "\n",
        "fig = plt.figure()\n",
        "ax = fig.add_subplot(111, projection='3d')\n",
        "\n",
        "x = pos[0]\n",
        "y = pos[1]\n",
        "z = pos[2]\n",
        "\n",
        "ax.plot(x, y, z)\n",
        "ax.set_xlabel(\"x\")\n",
        "ax.set_ylabel(\"y\")\n",
        "ax.set_zlabel(\"z\")\n",
        "plt.show()"
      ],
      "metadata": {
        "colab": {
          "base_uri": "https://localhost:8080/",
          "height": 415
        },
        "id": "9bESEUM3JwsU",
        "outputId": "96220017-9a84-4faf-d5e4-dda234a8fb83"
      },
      "execution_count": 15,
      "outputs": [
        {
          "output_type": "display_data",
          "data": {
            "text/plain": [
              "<Figure size 640x480 with 1 Axes>"
            ],
            "image/png": "[encoded data removed]"
          },
          "metadata": {}
        }
      ]
    },
    {
      "cell_type": "markdown",
      "source": [
        "Observamos que en efecto, obtenemos la misma gráfica que se obtuvo con el procedimiento realizado en el numeral b"
      ],
      "metadata": {
        "id": "HShsadv3vf4S"
      }
    },
    {
      "cell_type": "code",
      "source": [],
      "metadata": {
        "id": "Tyo2_qgfvnDW"
      },
      "execution_count": null,
      "outputs": []
    }
  ]
}