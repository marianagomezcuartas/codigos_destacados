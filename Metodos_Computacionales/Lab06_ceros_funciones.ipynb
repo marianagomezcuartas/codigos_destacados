{
  "nbformat": 4,
  "nbformat_minor": 0,
  "metadata": {
    "colab": {
      "provenance": []
    },
    "kernelspec": {
      "name": "python3",
      "display_name": "Python 3"
    },
    "language_info": {
      "name": "python"
    }
  },
  "cells": [
    {
      "cell_type": "markdown",
      "source": [
        ">[Codigo Markdown:](#scrollTo=HmTyV2-NQKwR)\n",
        "\n",
        ">[Ceros de funciones](#scrollTo=UCFMTQZz-Y6l)\n",
        "\n",
        ">>[bisección](#scrollTo=P0L8RdCVKZmb)\n",
        "\n",
        ">>[Newton](#scrollTo=Y7x6yKhhOPMU)\n",
        "\n",
        ">>[punto fijo](#scrollTo=1BFswTuxOTjC)\n",
        "\n",
        ">[Partícula en reposo](#scrollTo=DIOVE0E1XZ1-)\n",
        "\n",
        ">[Area](#scrollTo=3SVJWnEeVcAP)\n",
        "\n",
        ">[Movimiento de proyectiles en presencia de viento.](#scrollTo=zxQOD2FgQIfM)\n",
        "\n",
        ">[Construir un fractal empleando el metodo de Newton-Raphson,](#scrollTo=Ok4b668dWU_A)\n",
        "\n"
      ],
      "metadata": {
        "colab_type": "toc",
        "id": "2Tha2iTq6Q4y"
      }
    },
    {
      "cell_type": "markdown",
      "source": [
        "<a href=\"https://colab.research.google.com/github/hernansalinas/autogrades/blob/main/Laboratorios_Taller/Lab06_ceros_funciones.ipynb\" target=\"_parent\"><img src=\"https://colab.research.google.com/assets/colab-badge.svg\" alt=\"Open In Colab\"/></a>\n"
      ],
      "metadata": {
        "id": "IgVsqbRHO_tR"
      }
    },
    {
      "cell_type": "markdown",
      "source": [
        "# Codigo Markdown:\n",
        "Los numeras a, b, c y d tiene que ver con escritura en código Markdown y comandos de latex: \n",
        "\n",
        "\n",
        "\n",
        "\n",
        "\n",
        "\n",
        "\n"
      ],
      "metadata": {
        "id": "HmTyV2-NQKwR"
      }
    },
    {
      "cell_type": "markdown",
      "source": [
        "a. Escriba en pseudocódigo los pasos para aplicar el método de la bisección."
      ],
      "metadata": {
        "id": "V7YGAAU86d0F"
      }
    },
    {
      "cell_type": "markdown",
      "source": [
        "A continuación se presneta el peusocódigo correspondiente a los pasos que hay detrás de la aplicación del método de la bisección.\n",
        "\n",
        "Al momento de aplicar el método no es necesario crear un código que realice estos pasos, sino que se puede hacer lo siguiente:\n",
        "\n",
        "```\n",
        "from scipy import optimize\n",
        "\n",
        "optimize.bisect(función, punto 1, punto 2, argumentos)         #nos da el valor de la raíz\n",
        "\n",
        "```\n",
        "De aquí, es importante resaltar que el signo de funcion(punto 1) debe ser contrario a signo de funcion(punto 2), para que se pueda satisfacer el teorema del valor medio"
      ],
      "metadata": {
        "id": "mUqhGK3XLjgO"
      }
    },
    {
      "cell_type": "markdown",
      "source": [
        "```\n",
        "input: a, b, tol, maximo numero de iteraciones N_0\n",
        "\n",
        "output: p --> aproximación al valor de la raiz de la función (en caso de exixtir en el intervalo (a,b)\n",
        "\n",
        "PASO 1:\n",
        "i =1\n",
        "a_1 =a\n",
        "b_1 =b\n",
        "\n",
        "PASO 2:\n",
        "while i< N_0, realizar los pasos del 3 al 6\n",
        "\n",
        "  PASO 3:\n",
        "    calcular p = (a_1 + b_1) / 2\n",
        "\n",
        "  PASO 4:\n",
        "    si f(p)==0 ó (b-a) / 2 < tol entonces          #si el punto medio entre la distancia de los dos puntos que se han elegido \n",
        "                                                   es menor a una tolerancia\n",
        "    OUTPUT p\n",
        "    END\n",
        "\n",
        "  PASO 5: \n",
        "    reasignar i += 1\n",
        "\n",
        "  PASO 6: \n",
        "    si f(a) * f(p) > 0 entonces\n",
        "    reasignar a = p\n",
        "\n",
        "    else \n",
        "    reasignar b = p \n",
        "\n",
        "OUTPUT ('Método fallido después de N_0 iteraciones')\n",
        "END\n",
        "```"
      ],
      "metadata": {
        "id": "xPwGNIeC6uhe"
      }
    },
    {
      "cell_type": "markdown",
      "source": [
        "b. Realice la deducción del metodo de Newton-Rapshon, se recomienda escribir las ecuaciones en formato latex, para ello puede emplear las siguientes expresiones:   LA DEDUCCION EN DETALLE SE ENCUENTRA EN EL LIBRO DE BURDEN\n"
      ],
      "metadata": {
        "id": "v9yjkiJzIOSk"
      }
    },
    {
      "cell_type": "markdown",
      "source": [
        "Sea f una función de clase $C^2$ en el intervalo [a,b]. \n",
        "\n",
        "Sea $p_0$ perteneciente a [a, b] ser una aproximación al valor de la raiz de la funcion $p$, tal que $f(p_o) \\neq 0$.\n",
        "\n",
        "Consideramos la expansión de taylor para función f, centrada en el punto p_0:\n",
        "\n",
        "\n",
        "\n",
        "\\begin{equation}\n",
        "  f(x) = \\sum_{n=0}^{\\infty} \\frac{f^{(n)}(x_0)}{n!}(x-x_0)^n\n",
        "\\end{equation}\n",
        "\n",
        "\n",
        "Ahora, evaluamos la anterior expresión en el punto x= p\n",
        "\n",
        "\n",
        "\\begin{equation}\n",
        "  f(p) = 0 = \\sum_{n=0}^{\\infty} \\frac{f^{(n)}(x_0)}{n!}(p-x_0)^n\n",
        "\\end{equation}\n",
        "\n",
        "Como $|p-p_0|$ es pequeño (bajo la suposicion de que $p_0$ es un numero cercano a la raíz $p$ de la función, entonces podemos despreciar los términos después del segundo orden de esta serie, tal que:\n",
        "\n",
        "\\begin{equation}\n",
        "  f(p) = 0 = f(x_0) + f'(x_0)(p-x_0)\n",
        "\\end{equation}\n",
        "\n",
        "Por lo tanto, al despejar $p$, tenemos que:\n",
        "\n",
        "\\begin{equation}\n",
        "  p = x_0 - \\frac{f(x_0)}{f'(x_0)}\n",
        "\\end{equation}\n",
        "\n",
        "Lo anterior es lo que nos va dar la idea de como funciona el proceso de iteración a través del método de Newton - Raphson, tal que lo que vamos a hacer es generar una secuencia $\\{p_n\\}_{n=0}^{\\infty} \\quad$, donde para $n\\geq 1$:\n",
        "\n",
        "\\begin{equation}\n",
        "  p_n = p_{n-1} - \\frac{f(p_{n-1})}{f'(p_{n-1})\\quad},           \n",
        "\\end{equation}\n",
        "\n",
        "sin embargo, es importante resaltar que el objetivo del proceso no es realizarlo infinitas veces, sino establecer una tolerancia (tol), tal que cuando $|p_n - p_{n-1}|$ < tol, entonces el proceso pare."
      ],
      "metadata": {
        "id": "OXlu88kVIg4f"
      }
    },
    {
      "cell_type": "markdown",
      "source": [
        "c. ¿Cuál es la diferencia del metodo de Newton-Rapson con respecto al de la secante?"
      ],
      "metadata": {
        "id": "L3NbmBirWXKm"
      }
    },
    {
      "cell_type": "markdown",
      "source": [
        "La diferencia entre la aplicación de estos dos métodos viene esencialmente determinada por la presencia y uso de la derivada de la función para el cálculo de la raíz.\n",
        "\n",
        "Para encontrar las raices de una función $f(x)$ a través del método de Newton-Raphson, es necesario conocer la derivada de la función, y proporcionar un punto; mientras que para desarrollarlo por el método de la secante basta con proporcionar dos puntos de la función que se encuentren cercanos a la raiz.\n",
        "\n",
        "Ee importante resaltar que el punto o los puntos que se ingresen a cada uno de los métodos deben ser cercanos al valor de la raíz, con el fin de evitar problemas de convergencia. Sin embargo, aún tomando valores cercanos existe la posibilidad de que el resultado diverja a razón de los valores que fueron considerados "
      ],
      "metadata": {
        "id": "0kk13VqfWX9v"
      }
    },
    {
      "cell_type": "markdown",
      "source": [
        "d. Escriba en pseudocódigo los pasos para aplicar el método Punto Fijo."
      ],
      "metadata": {
        "id": "-al8WpPP6aiV"
      }
    },
    {
      "cell_type": "markdown",
      "source": [
        "A continuación se presenta el peusocódigo correspondiente a los pasos que hay detrás de la aplicación del método del punto fijo.\n",
        "\n",
        "Al momento de aplicar el método no es necesario crear un código que realice estos pasos, sino que se puede hacer lo siguiente:\n",
        "\n",
        "```\n",
        "from scipy import optimize\n",
        "\n",
        "optimize.fixed_point(func, p_0, args)\n",
        "\n",
        "tal que func es la función que hemos definido de la siguiente manera:\n",
        "\n",
        "Sea f la función a la cual le deseamos encontrar la raiz, entonces:\n",
        "func(x) = x - f(x)\n",
        "\n",
        "```\n",
        "De aquí, es importante resaltar que el valor de p_0 debe ser cercano a la raiz, y que la funcion que se ingresa no es a la que le queremos encontrar la raíz, sino una que definimos de la manera descrita previamente"
      ],
      "metadata": {
        "id": "3f0C_lMEP_bE"
      }
    },
    {
      "cell_type": "markdown",
      "source": [
        "```\n",
        "INPUT punto aproximado al valor de la raiz p_0,tolerancia, máximo numero de iteraciones N0\n",
        "OUTPUT valor aproximado de la raíz, o mensaje de error\n",
        "\n",
        "PASO 1:\n",
        "  definir i=1\n",
        "\n",
        "PASO 2:  \n",
        "  while i=<N0, realizar los pasos 3 al 6\n",
        "\n",
        "  PASO 3:\n",
        "    definir p=g(p0)                    # se van a ir definiendo diferenetes puntos p_i\n",
        "\n",
        "  PASO 4:\n",
        "    si |p-p0|<tol entonces             #cuando abs(dif(dos de los puntos calculados))es pequeña\n",
        "      output p, END\n",
        "\n",
        "  PASO 5: \n",
        "    redefinir i += 1\n",
        "\n",
        "  PASO 6:\n",
        "    redefinir p0=p                     #de modo que cuando vuelva al paso 3, p = g(g(p0))\n",
        "\n",
        "PASO 7:\n",
        "  OUTPUT ('el procedimiento ha fallado luego de N0 iteraciones')\n",
        "  END\n",
        "```"
      ],
      "metadata": {
        "id": "csEe2pD8atHa"
      }
    },
    {
      "cell_type": "markdown",
      "source": [
        "# 2. Ceros de funciones\n",
        "*Encontrar* los ceros de $e^{x}-2= \\cos(e^x-2)$ por diferentes metodos, bisection, newton-rapshon, punto fijo."
      ],
      "metadata": {
        "id": "UCFMTQZz-Y6l"
      }
    },
    {
      "cell_type": "code",
      "source": [
        "import numpy as np\n",
        "from scipy import optimize\n",
        "import matplotlib.pyplot as plt\n",
        "\n",
        "\n",
        "def func(x):\n",
        "  return np.exp(x) - 2 - np.cos(np.exp(x) - 2 )"
      ],
      "metadata": {
        "id": "Tl-lbr4e-aSs"
      },
      "execution_count": null,
      "outputs": []
    },
    {
      "cell_type": "code",
      "source": [
        "x= np.linspace(-1, 2)     #vamos a considerar un intervalo pequeño, en el cual podamos identificar una raiz\n",
        "y= func(x)\n",
        "\n",
        "plt.plot(x, y)"
      ],
      "metadata": {
        "colab": {
          "base_uri": "https://localhost:8080/",
          "height": 284
        },
        "id": "TccZIjg1Kgz4",
        "outputId": "1e844e72-b158-46cd-a4f2-1df987691f2e"
      },
      "execution_count": null,
      "outputs": [
        {
          "output_type": "execute_result",
          "data": {
            "text/plain": [
              "[<matplotlib.lines.Line2D at 0x7fc9b1e65df0>]"
            ]
          },
          "metadata": {},
          "execution_count": 2
        },
        {
          "output_type": "display_data",
          "data": {
            "text/plain": [
              "<Figure size 432x288 with 1 Axes>"
            ],
            "image/png": "[encoded data removed]"
          },
          "metadata": {
            "needs_background": "light"
          }
        }
      ]
    },
    {
      "cell_type": "markdown",
      "source": [
        "##bisección"
      ],
      "metadata": {
        "id": "P0L8RdCVKZmb"
      }
    },
    {
      "cell_type": "code",
      "source": [
        "# vamos a encontrar las raices de la funcion por medio del metodo de la bisección\n",
        "\n",
        "a=-5\n",
        "b=5\n",
        "\n",
        "raiz=  optimize.bisect(func, a, b)\n",
        "print(f'la raiz de la función es {raiz}')"
      ],
      "metadata": {
        "colab": {
          "base_uri": "https://localhost:8080/"
        },
        "id": "RRM6sSme_H7b",
        "outputId": "390f1fb1-12f9-42fa-c7a9-ce97cf85eb5c"
      },
      "execution_count": null,
      "outputs": [
        {
          "output_type": "stream",
          "name": "stdout",
          "text": [
            "la raiz de la función es 1.0076239716579494\n"
          ]
        }
      ]
    },
    {
      "cell_type": "code",
      "source": [
        "x= np.linspace(-1, 2)    \n",
        "y= func(x)\n",
        "\n",
        "plt.plot(x, y, label=f'{round(raiz, 4)}')\n",
        "plt.plot(raiz, func(raiz), 'ro')\n",
        "plt.grid()\n",
        "plt.title('Bisección')\n",
        "plt.legend(loc='best');"
      ],
      "metadata": {
        "colab": {
          "base_uri": "https://localhost:8080/",
          "height": 281
        },
        "id": "ckznBpHbLuJ4",
        "outputId": "614a01c9-6c46-4a6d-9e11-b75e0fe67eeb"
      },
      "execution_count": null,
      "outputs": [
        {
          "output_type": "display_data",
          "data": {
            "text/plain": [
              "<Figure size 432x288 with 1 Axes>"
            ],
            "image/png": "[encoded data removed]"
          },
          "metadata": {
            "needs_background": "light"
          }
        }
      ]
    },
    {
      "cell_type": "markdown",
      "source": [
        "##Newton"
      ],
      "metadata": {
        "id": "Y7x6yKhhOPMU"
      }
    },
    {
      "cell_type": "code",
      "source": [
        "#recordamos que para aplicar el método de newton debemos calcular la derivada de la función\n",
        "\n",
        "import sympy as sp"
      ],
      "metadata": {
        "id": "nm_3E4KIMtQT"
      },
      "execution_count": null,
      "outputs": []
    },
    {
      "cell_type": "code",
      "source": [
        "def func(x):\n",
        "  return np.exp(x) - 2 - np.cos(np.exp(x) - 2 )"
      ],
      "metadata": {
        "id": "32ye88jiVkMl"
      },
      "execution_count": null,
      "outputs": []
    },
    {
      "cell_type": "code",
      "source": [
        "#vamos a calcular la derivada de la función\n",
        "\n",
        "x= sp.symbols('x')\n",
        "f= lambda x: sp.exp(x) - 2 - sp.cos(sp.exp(x) - 2 )\n",
        "der = sp.diff(f(x), x)\n",
        "der"
      ],
      "metadata": {
        "colab": {
          "base_uri": "https://localhost:8080/",
          "height": 38
        },
        "id": "5XhueebqOoWE",
        "outputId": "d558e998-ba62-46ed-92d1-2d6cc80662f3"
      },
      "execution_count": null,
      "outputs": [
        {
          "output_type": "execute_result",
          "data": {
            "text/plain": [
              "exp(x)*sin(exp(x) - 2) + exp(x)"
            ],
            "text/latex": "$\\displaystyle e^{x} \\sin{\\left(e^{x} - 2 \\right)} + e^{x}$"
          },
          "metadata": {},
          "execution_count": 7
        }
      ]
    },
    {
      "cell_type": "code",
      "source": [
        "der_1= sp.lambdify(x, der, 'numpy')     #convertimos la función que sale de sympy a una función de numpy con la cual podemos trabajar, ingresando primero los argumentos, luego la función, y luego numpy, que es a lo que la queremos convertir\n",
        "der_1"
      ],
      "metadata": {
        "colab": {
          "base_uri": "https://localhost:8080/"
        },
        "id": "iDSVmRHZOoTz",
        "outputId": "8f30805e-6ec2-4aec-82d5-bb0b427a6a05"
      },
      "execution_count": null,
      "outputs": [
        {
          "output_type": "execute_result",
          "data": {
            "text/plain": [
              "<function _lambdifygenerated(x)>"
            ]
          },
          "metadata": {},
          "execution_count": 8
        }
      ]
    },
    {
      "cell_type": "code",
      "source": [
        "print(f' el valor de la raiz de la función tomando x_0 = 1 es {optimize.newton(func, 0.5, der_1)}') "
      ],
      "metadata": {
        "id": "NYGKqg2iOoKs",
        "colab": {
          "base_uri": "https://localhost:8080/"
        },
        "outputId": "f8a099ab-744f-4d4c-a2a8-f36f85f8ce9d"
      },
      "execution_count": null,
      "outputs": [
        {
          "output_type": "stream",
          "name": "stdout",
          "text": [
            " el valor de la raiz de la función tomando x_0 = 1 es 1.0076239716581366\n"
          ]
        }
      ]
    },
    {
      "cell_type": "markdown",
      "source": [
        "##punto fijo"
      ],
      "metadata": {
        "id": "1BFswTuxOTjC"
      }
    },
    {
      "cell_type": "code",
      "source": [
        "#defino la función que es la que debo ingresar en el método de punto fijo\n",
        "\n",
        "\n",
        "def g(x):\n",
        "  return x- func(x)"
      ],
      "metadata": {
        "id": "1T6n7DDYOWFr"
      },
      "execution_count": null,
      "outputs": []
    },
    {
      "cell_type": "code",
      "source": [
        "print(f'el valor de la raiz usando el método del punto fijo es {optimize.fixed_point(g, 1)}')"
      ],
      "metadata": {
        "colab": {
          "base_uri": "https://localhost:8080/"
        },
        "id": "zkti5PPmWyMs",
        "outputId": "277646eb-e658-477c-ed4a-49fc3f973efa"
      },
      "execution_count": null,
      "outputs": [
        {
          "output_type": "stream",
          "name": "stdout",
          "text": [
            "el valor de la raiz usando el método del punto fijo es 1.0076239716581368\n"
          ]
        }
      ]
    },
    {
      "cell_type": "markdown",
      "source": [
        "Notamos que por los tres métodos obtenemos el mismo resultado cuando consideramos un punto inicial cercano a la raíz (se elige el punto con base a la inspección de la gráfica de la función)"
      ],
      "metadata": {
        "id": "jpOGi-DCW_LL"
      }
    },
    {
      "cell_type": "markdown",
      "source": [
        "#3. Partícula en reposo\n",
        "Una particula parte del reposo sobre un plano inclinado uniforme, cuyo ángulo \n",
        "$\\theta$ cambia con una rapidez constante de : \n",
        "\n",
        "\\begin{equation}\n",
        "\\frac{\\mathrm{d}\\theta}{\\mathrm{d} t} = \\omega < 0\n",
        "\\end{equation}\n",
        "\n",
        "Al final de t segundos, la posición del objeto esta dada por: \n",
        "\n",
        "\n",
        "\\begin{equation}\n",
        "x(t) = -\\frac{g}{2\\omega^2} \\left( \\frac{e^{\\omega t}-e^{-\\omega t}}{2}-\\sin\\omega t\\right) \n",
        "\\end{equation}\n",
        "\n",
        "Suponga que la particula se desplazo 0.51m en 1s. Encuentre, con exactitud de $10^{-5}$ la rapidez $\\omega$ con que cambia $\\theta$. Supoga $g=9.76$m/s"
      ],
      "metadata": {
        "id": "DIOVE0E1XZ1-"
      }
    },
    {
      "cell_type": "code",
      "source": [
        "#de acuerdo con lo que nos dicen en el problema, lo que debemos hacer es resolver es la siguiente ecuacion:\n",
        "\n",
        "import numpy as np\n",
        "\n",
        "def fun(w):\n",
        "  g= 9.76\n",
        "  return (-g / (2* w**2)) * ((np.exp(w) - np.exp(-w)) / 2 - np.sin(w))  - 0.51"
      ],
      "metadata": {
        "id": "7NYv1rssNwtc"
      },
      "execution_count": null,
      "outputs": []
    },
    {
      "cell_type": "code",
      "source": [
        "#debemos resolver la anterior ecuacion para w.\n",
        "#lo que hacemos es una gráfica, para darnos una intuición de donde podría estar el cero de la función\n",
        "\n",
        "import matplotlib.pyplot as plt\n",
        "\n",
        "x= np.linspace(-2, -0.000005)\n",
        "y= fun(x)\n",
        "ceros= np.zeros(50)\n",
        "\n",
        "plt.plot(x,y)\n",
        "plt.plot(x, ceros)\n",
        "plt.grid();"
      ],
      "metadata": {
        "colab": {
          "base_uri": "https://localhost:8080/",
          "height": 265
        },
        "id": "WlOBZe7UNwe3",
        "outputId": "d38487cb-0bdc-4aa7-f8ca-bcf154cba9cd"
      },
      "execution_count": null,
      "outputs": [
        {
          "output_type": "display_data",
          "data": {
            "text/plain": [
              "<Figure size 432x288 with 1 Axes>"
            ],
            "image/png": "[encoded data removed]"
          },
          "metadata": {
            "needs_background": "light"
          }
        }
      ]
    },
    {
      "cell_type": "code",
      "source": [
        "#encontremos la raíz por medio del método del punto fijo\n",
        "\n",
        "#definimos la funcion que vamos a usar en la aplicación del punto fijo\n",
        "\n",
        "def ec(w):\n",
        "  return w- fun(w)"
      ],
      "metadata": {
        "id": "8AU_URW5NwZp"
      },
      "execution_count": null,
      "outputs": []
    },
    {
      "cell_type": "code",
      "source": [
        "from scipy import optimize\n",
        "\n",
        "raiz= optimize.fixed_point(ec, -0.25, xtol=1e-05)\n",
        "print(f'utilizando el método del punto fijo, se encuentra que la raíz de la función es {optimize.fixed_point(ec, -0.25)}')"
      ],
      "metadata": {
        "colab": {
          "base_uri": "https://localhost:8080/"
        },
        "id": "zOY43_MkaUmb",
        "outputId": "eefc6e5d-2957-41aa-f94a-9f18c14d55e8"
      },
      "execution_count": null,
      "outputs": [
        {
          "output_type": "stream",
          "name": "stdout",
          "text": [
            "utilizando el método del punto fijo, se encuentra que la raíz de la función es -0.31352098392655003\n"
          ]
        }
      ]
    },
    {
      "cell_type": "code",
      "source": [
        "#graficamos el punto\n",
        "\n",
        "x= np.linspace(-2, -0.000005)\n",
        "y= fun(x)\n",
        "\n",
        "plt.plot(x,y)\n",
        "plt.plot(raiz, fun(raiz), 'ro')\n",
        "plt.grid();"
      ],
      "metadata": {
        "colab": {
          "base_uri": "https://localhost:8080/",
          "height": 265
        },
        "id": "Bb9S2pzMauht",
        "outputId": "e2a90dbc-c2f7-4a62-9b9c-506660a0ea01"
      },
      "execution_count": null,
      "outputs": [
        {
          "output_type": "display_data",
          "data": {
            "text/plain": [
              "<Figure size 432x288 with 1 Axes>"
            ],
            "image/png": "[encoded data removed]"
          },
          "metadata": {
            "needs_background": "light"
          }
        }
      ]
    },
    {
      "cell_type": "markdown",
      "source": [
        "Concluimos que la rapide con la que cambia $\\theta$ es aproximadamente de -0.313 $\\frac{rad}{seg}$"
      ],
      "metadata": {
        "id": "V4gzxLcLcW99"
      }
    },
    {
      "cell_type": "markdown",
      "source": [
        "#3.  Area \n",
        "Hallar el área de un segmento circular cuya area sea igual a una cuarta parte del área del circulo. Para la solución se sugiere lo siguiente:\n",
        "\n",
        "a) Encontrar la ecuacion trascendental.\n",
        "\n",
        "b) Con la ecuación anterior, definir una funcion $f(\\theta)=0$. Emplee la funcion labmda de python.\n",
        "\n",
        "c) Construir una data frame de pandas con la columna \"theta\" con 1000 registros(filas) entre $[-2\\pi, 2\\pi]$. Sugerencia, para construir el data frame emplee la función linspace como sigue : np.linspace(-2*np.pi, 2*np.pi, 1000 )\n",
        "\n",
        "d) Construir una segunda columna titulada \"F_theta\" con los registros f(theta)\n",
        "\n",
        "f) Realice un gráfico de  \"F_theta\" vs \"theta\". Identifique el intervalo de la raiz.\n",
        "\n",
        "Estime el valor del ángulo empleando los siguientes metodos(Emplee  la documentacion):\n",
        "\n",
        "g) [Bisección](https://docs.scipy.org/doc/scipy/reference/generated/scipy.optimize.bisect.html)\n",
        "\n",
        "h) [Newton-Rapshon](https://docs.scipy.org/doc/scipy/reference/generated/scipy.optimize.newton.html)\n",
        "\n",
        "i) [Secante](https://docs.scipy.org/doc/scipy/reference/generated/scipy.optimize.newton.html) \n",
        "\n",
        "j) [Punto Fijo](https://docs.scipy.org/doc/scipy/reference/generated/scipy.optimize.fixed_point.html)\n"
      ],
      "metadata": {
        "id": "3SVJWnEeVcAP"
      }
    },
    {
      "cell_type": "markdown",
      "source": [
        "a) Encontrar la ecuacion trascendental."
      ],
      "metadata": {
        "id": "CGd3bx1TEyo4"
      }
    },
    {
      "cell_type": "markdown",
      "source": [
        "Al lado izquierdo tenemos la ecuacion correspondiente a la cuarta parte del área de un círulo.\n",
        "\n",
        "Al lado derecho se encuentra la ecuacion correspondiente al área del segmento circular.\n",
        "\n",
        "IMPORTANTE: el valor de $\\theta$ debe ingresarse en radianes y $r$ representa el radio de la circuenferencia\n",
        "\n",
        "\\begin{equation}\n",
        "  \\frac{1}{4}\\pi r² = \\frac{r²}{2}(\\theta- sin(\\theta))\n",
        "\\end{equation}\n",
        "\n"
      ],
      "metadata": {
        "id": "J53gMHiQF9v4"
      }
    },
    {
      "cell_type": "markdown",
      "source": [
        "b) Con la ecuación anterior, definir una funcion $f(\\theta)=0$. Emplee la funcion labmda de python."
      ],
      "metadata": {
        "id": "ARtJdkt9Iq1Z"
      }
    },
    {
      "cell_type": "code",
      "source": [
        "ec= lambda θ: θ - np.sin(θ) - (np.pi / 2 )"
      ],
      "metadata": {
        "id": "pSMmxkkhEXbg"
      },
      "execution_count": null,
      "outputs": []
    },
    {
      "cell_type": "markdown",
      "source": [
        "c) Construir una data frame de pandas con la columna \"theta\" con 1000 registros(filas) entre $[-2\\pi, 2\\pi]$. Sugerencia, para construir el data frame emplee la función linspace como sigue : np.linspace(-2*np.pi, 2*np.pi, 1000 )\n",
        "\n",
        "d) Construir una segunda columna titulada \"F_theta\" con los registros f(theta)"
      ],
      "metadata": {
        "id": "XFBpE7T6LkvN"
      }
    },
    {
      "cell_type": "code",
      "source": [
        "import pandas as pd\n",
        "\n",
        "θ = np.linspace(-2 * np.pi, 2*np.pi, 1000)\n",
        "\n",
        "df = pd.DataFrame()\n",
        "df['θ'] = θ\n",
        "df['f(θ)'] = df['θ'].apply(ec)    #aplicamos nuestra funcion lambda a la primera columna correspondiente a los valores de theta que hemos elegido\n",
        "\n",
        "df\n",
        "\n",
        "\n",
        "#teniendo los valores de f(θ), debemos ver ahora cuales son los que satisfacen la ecuacion f(θ)= 0"
      ],
      "metadata": {
        "colab": {
          "base_uri": "https://localhost:8080/",
          "height": 424
        },
        "id": "cdgNahFuLpPI",
        "outputId": "3657da48-112b-4a89-c555-152dc259a8ee"
      },
      "execution_count": null,
      "outputs": [
        {
          "output_type": "execute_result",
          "data": {
            "text/plain": [
              "            θ      f(θ)\n",
              "0   -6.283185 -7.853982\n",
              "1   -6.270606 -7.853981\n",
              "2   -6.258027 -7.853979\n",
              "3   -6.245448 -7.853973\n",
              "4   -6.232870 -7.853960\n",
              "..        ...       ...\n",
              "995  6.232870  4.712368\n",
              "996  6.245448  4.712380\n",
              "997  6.258027  4.712386\n",
              "998  6.270606  4.712389\n",
              "999  6.283185  4.712389\n",
              "\n",
              "[1000 rows x 2 columns]"
            ],
            "text/html": [
              "\n",
              "  <div id=\"df-9b0be86e-d334-446a-ae37-985a3967be3e\">\n",
              "    <div class=\"colab-df-container\">\n",
              "      <div>\n",
              "<style scoped>\n",
              "    .dataframe tbody tr th:only-of-type {\n",
              "        vertical-align: middle;\n",
              "    }\n",
              "\n",
              "    .dataframe tbody tr th {\n",
              "        vertical-align: top;\n",
              "    }\n",
              "\n",
              "    .dataframe thead th {\n",
              "        text-align: right;\n",
              "    }\n",
              "</style>\n",
              "<table border=\"1\" class=\"dataframe\">\n",
              "  <thead>\n",
              "    <tr style=\"text-align: right;\">\n",
              "      <th></th>\n",
              "      <th>θ</th>\n",
              "      <th>f(θ)</th>\n",
              "    </tr>\n",
              "  </thead>\n",
              "  <tbody>\n",
              "    <tr>\n",
              "      <th>0</th>\n",
              "      <td>-6.283185</td>\n",
              "      <td>-7.853982</td>\n",
              "    </tr>\n",
              "    <tr>\n",
              "      <th>1</th>\n",
              "      <td>-6.270606</td>\n",
              "      <td>-7.853981</td>\n",
              "    </tr>\n",
              "    <tr>\n",
              "      <th>2</th>\n",
              "      <td>-6.258027</td>\n",
              "      <td>-7.853979</td>\n",
              "    </tr>\n",
              "    <tr>\n",
              "      <th>3</th>\n",
              "      <td>-6.245448</td>\n",
              "      <td>-7.853973</td>\n",
              "    </tr>\n",
              "    <tr>\n",
              "      <th>4</th>\n",
              "      <td>-6.232870</td>\n",
              "      <td>-7.853960</td>\n",
              "    </tr>\n",
              "    <tr>\n",
              "      <th>...</th>\n",
              "      <td>...</td>\n",
              "      <td>...</td>\n",
              "    </tr>\n",
              "    <tr>\n",
              "      <th>995</th>\n",
              "      <td>6.232870</td>\n",
              "      <td>4.712368</td>\n",
              "    </tr>\n",
              "    <tr>\n",
              "      <th>996</th>\n",
              "      <td>6.245448</td>\n",
              "      <td>4.712380</td>\n",
              "    </tr>\n",
              "    <tr>\n",
              "      <th>997</th>\n",
              "      <td>6.258027</td>\n",
              "      <td>4.712386</td>\n",
              "    </tr>\n",
              "    <tr>\n",
              "      <th>998</th>\n",
              "      <td>6.270606</td>\n",
              "      <td>4.712389</td>\n",
              "    </tr>\n",
              "    <tr>\n",
              "      <th>999</th>\n",
              "      <td>6.283185</td>\n",
              "      <td>4.712389</td>\n",
              "    </tr>\n",
              "  </tbody>\n",
              "</table>\n",
              "<p>1000 rows × 2 columns</p>\n",
              "</div>\n",
              "      <button class=\"colab-df-convert\" onclick=\"convertToInteractive('df-9b0be86e-d334-446a-ae37-985a3967be3e')\"\n",
              "              title=\"Convert this dataframe to an interactive table.\"\n",
              "              style=\"display:none;\">\n",
              "        \n",
              "  <svg xmlns=\"http://www.w3.org/2000/svg\" height=\"24px\"viewBox=\"0 0 24 24\"\n",
              "       width=\"24px\">\n",
              "    <path d=\"M0 0h24v24H0V0z\" fill=\"none\"/>\n",
              "    <path d=\"M18.56 5.44l.94 2.06.94-2.06 2.06-.94-2.06-.94-.94-2.06-.94 2.06-2.06.94zm-11 1L8.5 8.5l.94-2.06 2.06-.94-2.06-.94L8.5 2.5l-.94 2.06-2.06.94zm10 10l.94 2.06.94-2.06 2.06-.94-2.06-.94-.94-2.06-.94 2.06-2.06.94z\"/><path d=\"M17.41 7.96l-1.37-1.37c-.4-.4-.92-.59-1.43-.59-.52 0-1.04.2-1.43.59L10.3 9.45l-7.72 7.72c-.78.78-.78 2.05 0 2.83L4 21.41c.39.39.9.59 1.41.59.51 0 1.02-.2 1.41-.59l7.78-7.78 2.81-2.81c.8-.78.8-2.07 0-2.86zM5.41 20L4 18.59l7.72-7.72 1.47 1.35L5.41 20z\"/>\n",
              "  </svg>\n",
              "      </button>\n",
              "      \n",
              "  <style>\n",
              "    .colab-df-container {\n",
              "      display:flex;\n",
              "      flex-wrap:wrap;\n",
              "      gap: 12px;\n",
              "    }\n",
              "\n",
              "    .colab-df-convert {\n",
              "      background-color: #E8F0FE;\n",
              "      border: none;\n",
              "      border-radius: 50%;\n",
              "      cursor: pointer;\n",
              "      display: none;\n",
              "      fill: #1967D2;\n",
              "      height: 32px;\n",
              "      padding: 0 0 0 0;\n",
              "      width: 32px;\n",
              "    }\n",
              "\n",
              "    .colab-df-convert:hover {\n",
              "      background-color: #E2EBFA;\n",
              "      box-shadow: 0px 1px 2px rgba(60, 64, 67, 0.3), 0px 1px 3px 1px rgba(60, 64, 67, 0.15);\n",
              "      fill: #174EA6;\n",
              "    }\n",
              "\n",
              "    [theme=dark] .colab-df-convert {\n",
              "      background-color: #3B4455;\n",
              "      fill: #D2E3FC;\n",
              "    }\n",
              "\n",
              "    [theme=dark] .colab-df-convert:hover {\n",
              "      background-color: #434B5C;\n",
              "      box-shadow: 0px 1px 3px 1px rgba(0, 0, 0, 0.15);\n",
              "      filter: drop-shadow(0px 1px 2px rgba(0, 0, 0, 0.3));\n",
              "      fill: #FFFFFF;\n",
              "    }\n",
              "  </style>\n",
              "\n",
              "      <script>\n",
              "        const buttonEl =\n",
              "          document.querySelector('#df-9b0be86e-d334-446a-ae37-985a3967be3e button.colab-df-convert');\n",
              "        buttonEl.style.display =\n",
              "          google.colab.kernel.accessAllowed ? 'block' : 'none';\n",
              "\n",
              "        async function convertToInteractive(key) {\n",
              "          const element = document.querySelector('#df-9b0be86e-d334-446a-ae37-985a3967be3e');\n",
              "          const dataTable =\n",
              "            await google.colab.kernel.invokeFunction('convertToInteractive',\n",
              "                                                     [key], {});\n",
              "          if (!dataTable) return;\n",
              "\n",
              "          const docLinkHtml = 'Like what you see? Visit the ' +\n",
              "            '<a target=\"_blank\" href=https://colab.research.google.com/notebooks/data_table.ipynb>data table notebook</a>'\n",
              "            + ' to learn more about interactive tables.';\n",
              "          element.innerHTML = '';\n",
              "          dataTable['output_type'] = 'display_data';\n",
              "          await google.colab.output.renderOutput(dataTable, element);\n",
              "          const docLink = document.createElement('div');\n",
              "          docLink.innerHTML = docLinkHtml;\n",
              "          element.appendChild(docLink);\n",
              "        }\n",
              "      </script>\n",
              "    </div>\n",
              "  </div>\n",
              "  "
            ]
          },
          "metadata": {},
          "execution_count": 18
        }
      ]
    },
    {
      "cell_type": "markdown",
      "source": [
        "f) Realice un gráfico de  \"F_theta\" vs \"theta\". Identifique el intervalo de la raiz.\n"
      ],
      "metadata": {
        "id": "VDNC5ZVWMwyM"
      }
    },
    {
      "cell_type": "code",
      "source": [
        "ceros= np.zeros(1000)\n",
        "\n",
        "plt.plot(df['θ'], df['f(θ)'])\n",
        "plt.plot(df['θ'], ceros)\n",
        "plt.title('$f(θ)$ vs. $θ$')\n",
        "plt.grid()"
      ],
      "metadata": {
        "colab": {
          "base_uri": "https://localhost:8080/",
          "height": 283
        },
        "id": "RqALAnxWMwnC",
        "outputId": "56dfa689-85b9-44e3-e749-fc38c9ada7bd"
      },
      "execution_count": null,
      "outputs": [
        {
          "output_type": "display_data",
          "data": {
            "text/plain": [
              "<Figure size 432x288 with 1 Axes>"
            ],
            "image/png": "[encoded data removed]"
          },
          "metadata": {
            "needs_background": "light"
          }
        }
      ]
    },
    {
      "cell_type": "markdown",
      "source": [
        "g) [Bisección](https://docs.scipy.org/doc/scipy/reference/generated/scipy.optimize.bisect.html)"
      ],
      "metadata": {
        "id": "01qWHnbrPpC4"
      }
    },
    {
      "cell_type": "code",
      "source": [
        "#ahora, aplico el método de la bisección en el intervalo que se observa en la gráfica, para graficarlo también\n",
        "\n",
        "raiz= optimize.bisect(ec, 2,3)\n",
        "raiz"
      ],
      "metadata": {
        "colab": {
          "base_uri": "https://localhost:8080/"
        },
        "id": "RsGaByvJOvgO",
        "outputId": "a05e5629-73c7-4463-b1e1-7f4a88430218"
      },
      "execution_count": null,
      "outputs": [
        {
          "output_type": "execute_result",
          "data": {
            "text/plain": [
              "2.309881460010729"
            ]
          },
          "metadata": {},
          "execution_count": 20
        }
      ]
    },
    {
      "cell_type": "code",
      "source": [
        "plt.plot(df['θ'], df['f(θ)'])\n",
        "plt.plot(raiz, ec(raiz), 'ro', label=f' θ = {round(raiz, 3)}')\n",
        "plt.title('$f(θ)$ vs. $θ$')\n",
        "plt.grid()\n",
        "plt.legend(loc= 'best')"
      ],
      "metadata": {
        "colab": {
          "base_uri": "https://localhost:8080/",
          "height": 300
        },
        "id": "w4LbPObdPsvX",
        "outputId": "f01dee14-f652-481d-cc20-81ef87c2ee6a"
      },
      "execution_count": null,
      "outputs": [
        {
          "output_type": "execute_result",
          "data": {
            "text/plain": [
              "<matplotlib.legend.Legend at 0x7fc9a76e0b50>"
            ]
          },
          "metadata": {},
          "execution_count": 21
        },
        {
          "output_type": "display_data",
          "data": {
            "text/plain": [
              "<Figure size 432x288 with 1 Axes>"
            ],
            "image/png": "[encoded data removed]"
          },
          "metadata": {
            "needs_background": "light"
          }
        }
      ]
    },
    {
      "cell_type": "markdown",
      "source": [
        "h) [Newton-Rapshon](https://docs.scipy.org/doc/scipy/reference/generated/scipy.optimize.newton.html)"
      ],
      "metadata": {
        "id": "Q9B_Zzd0bnkl"
      }
    },
    {
      "cell_type": "code",
      "source": [
        "#para emplear el método de newton raphson comenzamos por definir la derivada de la función\n",
        "\n",
        "ec= lambda x: x - np.sin(x) - (np.pi / 2 )"
      ],
      "metadata": {
        "id": "tcc_ztzRboW8"
      },
      "execution_count": null,
      "outputs": []
    },
    {
      "cell_type": "code",
      "source": [
        "import sympy as sp\n",
        "\n",
        "x= sp.symbols('x')\n",
        "fun= lambda x: x - sp.sin(x) - (sp.pi / 2 )\n",
        "dif= sp.diff(fun(x), x)\n",
        "dif_1 = sp.lambdify(x, dif, 'numpy')"
      ],
      "metadata": {
        "id": "UCZD1iJGb-C6"
      },
      "execution_count": null,
      "outputs": []
    },
    {
      "cell_type": "code",
      "source": [
        "print(f'la raíz de la función cercana al punto θ = 2 es: {optimize.newton(ec, 2, dif_1)}')"
      ],
      "metadata": {
        "colab": {
          "base_uri": "https://localhost:8080/"
        },
        "id": "2mBzKk_JcnZ0",
        "outputId": "395c9d4a-e745-43b7-ba40-c3f2a0962cde"
      },
      "execution_count": null,
      "outputs": [
        {
          "output_type": "stream",
          "name": "stdout",
          "text": [
            "la raíz de la función cercana al punto θ = 2 es: 2.3098814600100575\n"
          ]
        }
      ]
    },
    {
      "cell_type": "markdown",
      "source": [
        "i) [Secante](https://docs.scipy.org/doc/scipy/reference/generated/scipy.optimize.newton.html) "
      ],
      "metadata": {
        "id": "V0bsVZMKdDpy"
      }
    },
    {
      "cell_type": "code",
      "source": [
        "ec= lambda x: x - np.sin(x) - (np.pi / 2 )"
      ],
      "metadata": {
        "id": "t4kheEBrdKSM"
      },
      "execution_count": null,
      "outputs": []
    },
    {
      "cell_type": "code",
      "source": [
        "#podemos hacerlo haciendo uso del método optimize.root_scalar()\n",
        "\n",
        "raiz= optimize.root_scalar(ec, bracket=[2, 4])     #proporciono los dos puntos que se necesitan para llevar a cabo el procedimiento de la secante\n",
        "print(f' la raíz de la función cercana al punto x=2 es {raiz.root}')"
      ],
      "metadata": {
        "colab": {
          "base_uri": "https://localhost:8080/"
        },
        "id": "fhe4gKl7dzp_",
        "outputId": "61110a98-71c7-4a5b-af7e-12a516b21d33"
      },
      "execution_count": null,
      "outputs": [
        {
          "output_type": "stream",
          "name": "stdout",
          "text": [
            " la raíz de la función cercana al punto x=2 es 2.3098814600100575\n"
          ]
        }
      ]
    },
    {
      "cell_type": "code",
      "source": [
        "#o bien lo podemos hacer de esta forma\n",
        "\n",
        "raiz = optimize.newton(ec, 2, fprime=None)   \n",
        "print(f'la raíz de la función cercano al punto x=2 a través del metodo de la secante es {raiz}')    "
      ],
      "metadata": {
        "colab": {
          "base_uri": "https://localhost:8080/"
        },
        "id": "g0a3rmqUfqwl",
        "outputId": "69c9b547-abe3-4bcb-a4b6-199586520166"
      },
      "execution_count": null,
      "outputs": [
        {
          "output_type": "stream",
          "name": "stdout",
          "text": [
            "la raíz de la función cercano al punto x=2 a través del metodo de la secante es 2.309881460010033\n"
          ]
        }
      ]
    },
    {
      "cell_type": "markdown",
      "source": [
        "j) [Punto Fijo](https://docs.scipy.org/doc/scipy/reference/generated/scipy.optimize.fixed_point.html)\n"
      ],
      "metadata": {
        "id": "rkmPeDEJblfG"
      }
    },
    {
      "cell_type": "code",
      "source": [
        "ec= lambda x: x - np.sin(x) - (np.pi / 2 )\n",
        "\n",
        "#definimos la función que vamos a ingresar al método\n",
        "\n",
        "fun = lambda x: x- ec(x)"
      ],
      "metadata": {
        "id": "Uk_nuO55dK03"
      },
      "execution_count": null,
      "outputs": []
    },
    {
      "cell_type": "code",
      "source": [
        "raiz = optimize.fixed_point(fun, 2)     #nos acercamos nuevamente por x=2\n",
        "print(f'la raíz de la función con el método del punto fijo es {raiz}')"
      ],
      "metadata": {
        "colab": {
          "base_uri": "https://localhost:8080/"
        },
        "id": "OEcIchX6hXvo",
        "outputId": "f12f8a79-0355-491e-a9e7-e0732b7710e5"
      },
      "execution_count": null,
      "outputs": [
        {
          "output_type": "stream",
          "name": "stdout",
          "text": [
            "la raíz de la función con el método del punto fijo es 2.3098814600100575\n"
          ]
        }
      ]
    },
    {
      "cell_type": "markdown",
      "source": [
        "Notamos que a través de todos los métodos obtenemos siempre el mismo resultado de la raíz"
      ],
      "metadata": {
        "id": "3zLYSs2Gg3tk"
      }
    },
    {
      "cell_type": "markdown",
      "source": [
        "\n",
        "\n",
        "# 3. Movimiento de proyectiles en presencia de viento.\n",
        "\n",
        "Supongamos que un proyectil es lanzado desde el origen con una rapidez $v=vo( \\cos \\theta , \\sin \\theta $. Supongamos además que el efecto del viento sobre el proyectil es el de una fuerza proporcional a la velocidad relativa entre el viento y el proyectil. Teniendo presente que si u es la velocidad del viento y $\\alpha$ el ángulo que hace dirección de esta velocidad con el eje x, se puede entrontrar las siguientes ecuaciones diferenciales, asociada al estado de movimiento del [proyectil](https://iopscience.iop.org/article/10.1088/0143-0807/36/2/025016/meta):\n",
        "\n",
        "\n",
        "\\begin{equation}\n",
        "m\\frac{dv_x}{dt} = -mb(v_x-u\\cos \\alpha )\n",
        "\\end{equation}\n",
        "\n",
        "\\begin{equation}\n",
        "m\\frac{dv_y}{dt} = -mg-mb(v_x-u\\sin \\alpha ),\n",
        "\\end{equation}\n",
        "\n",
        "donde b es el párametro de rozamiento. La soluciones a las ecuaciones anteriores vienen dadas por:\n",
        "\n",
        "Posición en x\n",
        "\\begin{equation}\n",
        "x=(u\\cos \\alpha) t + \\frac{1}{b} (v_0\\cos \\theta_0 -u \\cos\\alpha)(1-\\mathrm{exp}(-bt))\n",
        "\\end{equation}\n",
        "\n",
        "Posicion en y \n",
        "\\begin{equation}\n",
        "y= \\frac{1}{b}\\left(\\frac{g}{b}+v_0 \\sin \\theta_0 -u\\sin\\alpha \\right)(1-\\mathrm{exp}(-bt))-\\left( \\frac{g}{b}-u\\sin\\alpha\\right)t\n",
        "\\end{equation}\n",
        "\n",
        "Ver imagen:  http://www.sc.ehu.es/sbweb/fisica3/fluidos/viento/parabolico.html\n",
        "\n"
      ],
      "metadata": {
        "id": "zxQOD2FgQIfM"
      }
    },
    {
      "cell_type": "markdown",
      "source": [
        "0. Establezca las siguietnes condiciones inciales.\n",
        "\n",
        "```\n",
        "#Parametros iniciales\n",
        "\n",
        "v0 = 60 #Velocidad en m/s\n",
        "alpha = np.pi #Angulo del viento\n",
        "theta = np.deg2rad(45) #Angulo de lanzamiento\n",
        "u = v0/2             #rapidez del viento\n",
        "b = 0.05             #Parametro de friccion \n",
        "g = 9.8                #Aceleracion de la gravedad m/s2\n",
        "\n",
        "Params = (alpha, v0, b, u,g)  #Parametros en tupla.\n",
        "\n",
        "```"
      ],
      "metadata": {
        "id": "4rW3TZVHRlc0"
      }
    },
    {
      "cell_type": "code",
      "source": [
        "import numpy as np\n",
        "\n",
        "# Parametros iniciales\n",
        "\n",
        "v0 = 60                 #Velocidad en m/s\n",
        "alpha = np.pi           #Angulo del viento\n",
        "theta = np.deg2rad(45)  #Angulo de lanzamiento\n",
        "u = v0/2                #rapidez del viento\n",
        "b = 0.05                #Parametro de friccion \n",
        "g = 9.8                 #Aceleracion de la gravedad m/s2\n",
        "\n",
        "Params = (alpha, v0, b, u,g)  #Parametros en tupla."
      ],
      "metadata": {
        "id": "P0MoUSSpRlQ7"
      },
      "execution_count": null,
      "outputs": []
    },
    {
      "cell_type": "markdown",
      "source": [
        "1. Defina dos funciones, una para x y otra para y. \n",
        "\n",
        "```\n",
        "\n",
        "#Posicion en x\n",
        "def pos_x(t, theta, alpha, v0, b, u,g):\n",
        "  x = #escriba aca la expresión\n",
        "  return x\n",
        "\n",
        "#Posicion en y\n",
        "def pos_y(t, theta, alpha, v0, b, u,g):\n",
        "\n",
        "\n",
        "  y = #escriba aca la expresión\n",
        "  return y \n",
        "\n",
        "```"
      ],
      "metadata": {
        "id": "qAMs-LrIR3-M"
      }
    },
    {
      "cell_type": "markdown",
      "source": [
        "Posición en x\n",
        "\\begin{equation}\n",
        "x=(u\\cos \\alpha) t + \\frac{1}{b} (v_0\\cos \\theta_0 -u \\cos\\alpha)(1-\\mathrm{exp}(-bt))\n",
        "\\end{equation}\n",
        "\n",
        "Posicion en y \n",
        "\\begin{equation}\n",
        "y= \\frac{1}{b}\\left(\\frac{g}{b}+v_0 \\sin \\theta_0 -u\\sin\\alpha \\right)(1-\\mathrm{exp}(-bt))-\\left( \\frac{g}{b}-u\\sin\\alpha\\right)t\n",
        "\\end{equation}"
      ],
      "metadata": {
        "id": "3irNx28cLgMP"
      }
    },
    {
      "cell_type": "code",
      "source": [
        "# Posicion en x\n",
        "def pos_x(t, theta, alpha, v0, b, u,g):\n",
        "  x = (u * np.cos(alpha))* t + (1/b) * (v0 * np.cos(theta) - u * np.cos(alpha)) * (1- np.exp(-b * t))\n",
        "  return x\n",
        "\n",
        "# Posicion en y\n",
        "def pos_y(t, theta, alpha, v0, b, u,g):\n",
        "  y = (1/b) * ((g/b) + v0 * np.sin(theta) - u * np.sin(alpha)) * (1- np.exp(-b * t)) - ((g/b) - u * np.sin(alpha)) *t\n",
        "  return y "
      ],
      "metadata": {
        "id": "4k1z1LZvR5Cc"
      },
      "execution_count": null,
      "outputs": []
    },
    {
      "cell_type": "markdown",
      "source": [
        "2. Construya un diccionario con las claves \"X\", \"Y\", \"Tiempo\""
      ],
      "metadata": {
        "id": "jgQxbc8IMe8Z"
      }
    },
    {
      "cell_type": "code",
      "source": [
        "#lo defino de tal forma que despues lo pueda rellenar\n",
        "\n",
        "dic = {'t': [], 'x': [], 'y': []}"
      ],
      "metadata": {
        "id": "wQCRKzybMfnU"
      },
      "execution_count": null,
      "outputs": []
    },
    {
      "cell_type": "markdown",
      "source": [
        "3. Con el diccionario construya un data frame de pandas llamado df con los nombres de columnas \"X\", \"Y\", \"Tiempo\"  https://pandas.pydata.org/docs/reference/api/pandas.DataFrame.from_dict.html. Defina 1000 regitros para el intervalo de tiempo elegido."
      ],
      "metadata": {
        "id": "USF0JHuXNV1g"
      }
    },
    {
      "cell_type": "code",
      "source": [
        "import pandas as pd\n",
        "\n",
        "df= pd.DataFrame(dic)\n",
        "df"
      ],
      "metadata": {
        "colab": {
          "base_uri": "https://localhost:8080/",
          "height": 49
        },
        "id": "jLoxmRzLMfjv",
        "outputId": "addf6ccc-1c0f-44ba-c88a-fb0290d30323"
      },
      "execution_count": null,
      "outputs": [
        {
          "output_type": "execute_result",
          "data": {
            "text/plain": [
              "Empty DataFrame\n",
              "Columns: [t, x, y]\n",
              "Index: []"
            ],
            "text/html": [
              "\n",
              "  <div id=\"df-c3a39895-a297-41b4-a810-64e6fc298b9d\">\n",
              "    <div class=\"colab-df-container\">\n",
              "      <div>\n",
              "<style scoped>\n",
              "    .dataframe tbody tr th:only-of-type {\n",
              "        vertical-align: middle;\n",
              "    }\n",
              "\n",
              "    .dataframe tbody tr th {\n",
              "        vertical-align: top;\n",
              "    }\n",
              "\n",
              "    .dataframe thead th {\n",
              "        text-align: right;\n",
              "    }\n",
              "</style>\n",
              "<table border=\"1\" class=\"dataframe\">\n",
              "  <thead>\n",
              "    <tr style=\"text-align: right;\">\n",
              "      <th></th>\n",
              "      <th>t</th>\n",
              "      <th>x</th>\n",
              "      <th>y</th>\n",
              "    </tr>\n",
              "  </thead>\n",
              "  <tbody>\n",
              "  </tbody>\n",
              "</table>\n",
              "</div>\n",
              "      <button class=\"colab-df-convert\" onclick=\"convertToInteractive('df-c3a39895-a297-41b4-a810-64e6fc298b9d')\"\n",
              "              title=\"Convert this dataframe to an interactive table.\"\n",
              "              style=\"display:none;\">\n",
              "        \n",
              "  <svg xmlns=\"http://www.w3.org/2000/svg\" height=\"24px\"viewBox=\"0 0 24 24\"\n",
              "       width=\"24px\">\n",
              "    <path d=\"M0 0h24v24H0V0z\" fill=\"none\"/>\n",
              "    <path d=\"M18.56 5.44l.94 2.06.94-2.06 2.06-.94-2.06-.94-.94-2.06-.94 2.06-2.06.94zm-11 1L8.5 8.5l.94-2.06 2.06-.94-2.06-.94L8.5 2.5l-.94 2.06-2.06.94zm10 10l.94 2.06.94-2.06 2.06-.94-2.06-.94-.94-2.06-.94 2.06-2.06.94z\"/><path d=\"M17.41 7.96l-1.37-1.37c-.4-.4-.92-.59-1.43-.59-.52 0-1.04.2-1.43.59L10.3 9.45l-7.72 7.72c-.78.78-.78 2.05 0 2.83L4 21.41c.39.39.9.59 1.41.59.51 0 1.02-.2 1.41-.59l7.78-7.78 2.81-2.81c.8-.78.8-2.07 0-2.86zM5.41 20L4 18.59l7.72-7.72 1.47 1.35L5.41 20z\"/>\n",
              "  </svg>\n",
              "      </button>\n",
              "      \n",
              "  <style>\n",
              "    .colab-df-container {\n",
              "      display:flex;\n",
              "      flex-wrap:wrap;\n",
              "      gap: 12px;\n",
              "    }\n",
              "\n",
              "    .colab-df-convert {\n",
              "      background-color: #E8F0FE;\n",
              "      border: none;\n",
              "      border-radius: 50%;\n",
              "      cursor: pointer;\n",
              "      display: none;\n",
              "      fill: #1967D2;\n",
              "      height: 32px;\n",
              "      padding: 0 0 0 0;\n",
              "      width: 32px;\n",
              "    }\n",
              "\n",
              "    .colab-df-convert:hover {\n",
              "      background-color: #E2EBFA;\n",
              "      box-shadow: 0px 1px 2px rgba(60, 64, 67, 0.3), 0px 1px 3px 1px rgba(60, 64, 67, 0.15);\n",
              "      fill: #174EA6;\n",
              "    }\n",
              "\n",
              "    [theme=dark] .colab-df-convert {\n",
              "      background-color: #3B4455;\n",
              "      fill: #D2E3FC;\n",
              "    }\n",
              "\n",
              "    [theme=dark] .colab-df-convert:hover {\n",
              "      background-color: #434B5C;\n",
              "      box-shadow: 0px 1px 3px 1px rgba(0, 0, 0, 0.15);\n",
              "      filter: drop-shadow(0px 1px 2px rgba(0, 0, 0, 0.3));\n",
              "      fill: #FFFFFF;\n",
              "    }\n",
              "  </style>\n",
              "\n",
              "      <script>\n",
              "        const buttonEl =\n",
              "          document.querySelector('#df-c3a39895-a297-41b4-a810-64e6fc298b9d button.colab-df-convert');\n",
              "        buttonEl.style.display =\n",
              "          google.colab.kernel.accessAllowed ? 'block' : 'none';\n",
              "\n",
              "        async function convertToInteractive(key) {\n",
              "          const element = document.querySelector('#df-c3a39895-a297-41b4-a810-64e6fc298b9d');\n",
              "          const dataTable =\n",
              "            await google.colab.kernel.invokeFunction('convertToInteractive',\n",
              "                                                     [key], {});\n",
              "          if (!dataTable) return;\n",
              "\n",
              "          const docLinkHtml = 'Like what you see? Visit the ' +\n",
              "            '<a target=\"_blank\" href=https://colab.research.google.com/notebooks/data_table.ipynb>data table notebook</a>'\n",
              "            + ' to learn more about interactive tables.';\n",
              "          element.innerHTML = '';\n",
              "          dataTable['output_type'] = 'display_data';\n",
              "          await google.colab.output.renderOutput(dataTable, element);\n",
              "          const docLink = document.createElement('div');\n",
              "          docLink.innerHTML = docLinkHtml;\n",
              "          element.appendChild(docLink);\n",
              "        }\n",
              "      </script>\n",
              "    </div>\n",
              "  </div>\n",
              "  "
            ]
          },
          "metadata": {},
          "execution_count": 33
        }
      ]
    },
    {
      "cell_type": "code",
      "source": [
        "#vamos ahorora a general los registros solicitados, desde el tiempo 0 a 1000-1\n",
        "\n",
        "df['t'] = np.arange(1000)\n",
        "df['x'] = df['t'].apply(lambda t: pos_x(t, theta, alpha, v0, b, u, g))            #para poder aplicar la función a los elementos de la primera columna, redefino una función lambda tal que tome los demás argumentos como las condiciones iniciales que había definido previamente\n",
        "df['y'] = df['t'].apply(lambda t:pos_y(t, theta, alpha, v0, b, u, g))\n",
        "df"
      ],
      "metadata": {
        "colab": {
          "base_uri": "https://localhost:8080/",
          "height": 424
        },
        "id": "ncM-qsewNqBe",
        "outputId": "103e5565-a892-4b6d-89c6-ff61f169b652"
      },
      "execution_count": null,
      "outputs": [
        {
          "output_type": "execute_result",
          "data": {
            "text/plain": [
              "       t             x              y\n",
              "0      0      0.000000       0.000000\n",
              "1      1     40.645551      36.563862\n",
              "2      2     77.845678      61.785450\n",
              "3      3    111.768415      76.217934\n",
              "4      4    142.573605      80.387504\n",
              "..   ...           ...            ...\n",
              "995  995 -28401.471863 -190251.471863\n",
              "996  996 -28431.471863 -190447.471863\n",
              "997  997 -28461.471863 -190643.471863\n",
              "998  998 -28491.471863 -190839.471863\n",
              "999  999 -28521.471863 -191035.471863\n",
              "\n",
              "[1000 rows x 3 columns]"
            ],
            "text/html": [
              "\n",
              "  <div id=\"df-7db6e5f6-9b16-46db-b591-9a436b32850c\">\n",
              "    <div class=\"colab-df-container\">\n",
              "      <div>\n",
              "<style scoped>\n",
              "    .dataframe tbody tr th:only-of-type {\n",
              "        vertical-align: middle;\n",
              "    }\n",
              "\n",
              "    .dataframe tbody tr th {\n",
              "        vertical-align: top;\n",
              "    }\n",
              "\n",
              "    .dataframe thead th {\n",
              "        text-align: right;\n",
              "    }\n",
              "</style>\n",
              "<table border=\"1\" class=\"dataframe\">\n",
              "  <thead>\n",
              "    <tr style=\"text-align: right;\">\n",
              "      <th></th>\n",
              "      <th>t</th>\n",
              "      <th>x</th>\n",
              "      <th>y</th>\n",
              "    </tr>\n",
              "  </thead>\n",
              "  <tbody>\n",
              "    <tr>\n",
              "      <th>0</th>\n",
              "      <td>0</td>\n",
              "      <td>0.000000</td>\n",
              "      <td>0.000000</td>\n",
              "    </tr>\n",
              "    <tr>\n",
              "      <th>1</th>\n",
              "      <td>1</td>\n",
              "      <td>40.645551</td>\n",
              "      <td>36.563862</td>\n",
              "    </tr>\n",
              "    <tr>\n",
              "      <th>2</th>\n",
              "      <td>2</td>\n",
              "      <td>77.845678</td>\n",
              "      <td>61.785450</td>\n",
              "    </tr>\n",
              "    <tr>\n",
              "      <th>3</th>\n",
              "      <td>3</td>\n",
              "      <td>111.768415</td>\n",
              "      <td>76.217934</td>\n",
              "    </tr>\n",
              "    <tr>\n",
              "      <th>4</th>\n",
              "      <td>4</td>\n",
              "      <td>142.573605</td>\n",
              "      <td>80.387504</td>\n",
              "    </tr>\n",
              "    <tr>\n",
              "      <th>...</th>\n",
              "      <td>...</td>\n",
              "      <td>...</td>\n",
              "      <td>...</td>\n",
              "    </tr>\n",
              "    <tr>\n",
              "      <th>995</th>\n",
              "      <td>995</td>\n",
              "      <td>-28401.471863</td>\n",
              "      <td>-190251.471863</td>\n",
              "    </tr>\n",
              "    <tr>\n",
              "      <th>996</th>\n",
              "      <td>996</td>\n",
              "      <td>-28431.471863</td>\n",
              "      <td>-190447.471863</td>\n",
              "    </tr>\n",
              "    <tr>\n",
              "      <th>997</th>\n",
              "      <td>997</td>\n",
              "      <td>-28461.471863</td>\n",
              "      <td>-190643.471863</td>\n",
              "    </tr>\n",
              "    <tr>\n",
              "      <th>998</th>\n",
              "      <td>998</td>\n",
              "      <td>-28491.471863</td>\n",
              "      <td>-190839.471863</td>\n",
              "    </tr>\n",
              "    <tr>\n",
              "      <th>999</th>\n",
              "      <td>999</td>\n",
              "      <td>-28521.471863</td>\n",
              "      <td>-191035.471863</td>\n",
              "    </tr>\n",
              "  </tbody>\n",
              "</table>\n",
              "<p>1000 rows × 3 columns</p>\n",
              "</div>\n",
              "      <button class=\"colab-df-convert\" onclick=\"convertToInteractive('df-7db6e5f6-9b16-46db-b591-9a436b32850c')\"\n",
              "              title=\"Convert this dataframe to an interactive table.\"\n",
              "              style=\"display:none;\">\n",
              "        \n",
              "  <svg xmlns=\"http://www.w3.org/2000/svg\" height=\"24px\"viewBox=\"0 0 24 24\"\n",
              "       width=\"24px\">\n",
              "    <path d=\"M0 0h24v24H0V0z\" fill=\"none\"/>\n",
              "    <path d=\"M18.56 5.44l.94 2.06.94-2.06 2.06-.94-2.06-.94-.94-2.06-.94 2.06-2.06.94zm-11 1L8.5 8.5l.94-2.06 2.06-.94-2.06-.94L8.5 2.5l-.94 2.06-2.06.94zm10 10l.94 2.06.94-2.06 2.06-.94-2.06-.94-.94-2.06-.94 2.06-2.06.94z\"/><path d=\"M17.41 7.96l-1.37-1.37c-.4-.4-.92-.59-1.43-.59-.52 0-1.04.2-1.43.59L10.3 9.45l-7.72 7.72c-.78.78-.78 2.05 0 2.83L4 21.41c.39.39.9.59 1.41.59.51 0 1.02-.2 1.41-.59l7.78-7.78 2.81-2.81c.8-.78.8-2.07 0-2.86zM5.41 20L4 18.59l7.72-7.72 1.47 1.35L5.41 20z\"/>\n",
              "  </svg>\n",
              "      </button>\n",
              "      \n",
              "  <style>\n",
              "    .colab-df-container {\n",
              "      display:flex;\n",
              "      flex-wrap:wrap;\n",
              "      gap: 12px;\n",
              "    }\n",
              "\n",
              "    .colab-df-convert {\n",
              "      background-color: #E8F0FE;\n",
              "      border: none;\n",
              "      border-radius: 50%;\n",
              "      cursor: pointer;\n",
              "      display: none;\n",
              "      fill: #1967D2;\n",
              "      height: 32px;\n",
              "      padding: 0 0 0 0;\n",
              "      width: 32px;\n",
              "    }\n",
              "\n",
              "    .colab-df-convert:hover {\n",
              "      background-color: #E2EBFA;\n",
              "      box-shadow: 0px 1px 2px rgba(60, 64, 67, 0.3), 0px 1px 3px 1px rgba(60, 64, 67, 0.15);\n",
              "      fill: #174EA6;\n",
              "    }\n",
              "\n",
              "    [theme=dark] .colab-df-convert {\n",
              "      background-color: #3B4455;\n",
              "      fill: #D2E3FC;\n",
              "    }\n",
              "\n",
              "    [theme=dark] .colab-df-convert:hover {\n",
              "      background-color: #434B5C;\n",
              "      box-shadow: 0px 1px 3px 1px rgba(0, 0, 0, 0.15);\n",
              "      filter: drop-shadow(0px 1px 2px rgba(0, 0, 0, 0.3));\n",
              "      fill: #FFFFFF;\n",
              "    }\n",
              "  </style>\n",
              "\n",
              "      <script>\n",
              "        const buttonEl =\n",
              "          document.querySelector('#df-7db6e5f6-9b16-46db-b591-9a436b32850c button.colab-df-convert');\n",
              "        buttonEl.style.display =\n",
              "          google.colab.kernel.accessAllowed ? 'block' : 'none';\n",
              "\n",
              "        async function convertToInteractive(key) {\n",
              "          const element = document.querySelector('#df-7db6e5f6-9b16-46db-b591-9a436b32850c');\n",
              "          const dataTable =\n",
              "            await google.colab.kernel.invokeFunction('convertToInteractive',\n",
              "                                                     [key], {});\n",
              "          if (!dataTable) return;\n",
              "\n",
              "          const docLinkHtml = 'Like what you see? Visit the ' +\n",
              "            '<a target=\"_blank\" href=https://colab.research.google.com/notebooks/data_table.ipynb>data table notebook</a>'\n",
              "            + ' to learn more about interactive tables.';\n",
              "          element.innerHTML = '';\n",
              "          dataTable['output_type'] = 'display_data';\n",
              "          await google.colab.output.renderOutput(dataTable, element);\n",
              "          const docLink = document.createElement('div');\n",
              "          docLink.innerHTML = docLinkHtml;\n",
              "          element.appendChild(docLink);\n",
              "        }\n",
              "      </script>\n",
              "    </div>\n",
              "  </div>\n",
              "  "
            ]
          },
          "metadata": {},
          "execution_count": 34
        }
      ]
    },
    {
      "cell_type": "code",
      "source": [
        "#podemos visualizar el anterior dataframe nuevamente como un diccionario\n",
        "\n",
        "#df.to_dict()"
      ],
      "metadata": {
        "id": "Tlh7c-PoQygK"
      },
      "execution_count": null,
      "outputs": []
    },
    {
      "cell_type": "markdown",
      "source": [
        "4. Realice un gráfico de x como función del tiempo, de y como función del tiempo y la trayectoria de la partícula (df[\"X\"], df[\"tiempo\"], df[\"Y\"]).\n",
        "\n"
      ],
      "metadata": {
        "id": "1tIjm89hRTit"
      }
    },
    {
      "cell_type": "code",
      "source": [
        "#veamos primero la gráfica de \n",
        "\n",
        "import matplotlib.pyplot as plt"
      ],
      "metadata": {
        "id": "DeFWXBN6RWmu"
      },
      "execution_count": null,
      "outputs": []
    },
    {
      "cell_type": "code",
      "source": [
        "fig, axs = plt.subplots(1, 2)\n",
        "\n",
        "\n",
        "axs[0].plot(df['t'], df['x'], label='1000 valores')\n",
        "axs[0].set_title('x vs. t')\n",
        "axs[0].set_xlabel('t')\n",
        "axs[0].set_ylabel('x')\n",
        "axs[0].legend()\n",
        "\n",
        "axs[1].plot(df['t'][:50], df['x'][:50], label='50 valores')    \n",
        "axs[1].set_title('x vs. t')\n",
        "axs[1].set_xlabel('t')\n",
        "axs[1].set_ylabel('x')\n",
        "axs[1].legend()\n",
        "\n",
        "fig.tight_layout()"
      ],
      "metadata": {
        "colab": {
          "base_uri": "https://localhost:8080/",
          "height": 297
        },
        "id": "z3NDsJ2YUrcg",
        "outputId": "10cf1da3-cc1c-4663-80fd-501e34738e5d"
      },
      "execution_count": null,
      "outputs": [
        {
          "output_type": "display_data",
          "data": {
            "text/plain": [
              "<Figure size 432x288 with 2 Axes>"
            ],
            "image/png": "[encoded data removed]"
          },
          "metadata": {
            "needs_background": "light"
          }
        }
      ]
    },
    {
      "cell_type": "code",
      "source": [
        "fig, axs = plt.subplots(1, 2)\n",
        "\n",
        "\n",
        "axs[0].plot(df['t'], df['y'], label='1000 valores')\n",
        "axs[0].set_title('y vs. t')\n",
        "axs[0].set_xlabel('t')\n",
        "axs[0].set_ylabel('y')\n",
        "axs[0].legend()\n",
        "\n",
        "axs[1].plot(df['t'][:50], df['y'][:50], label='50 valores')    \n",
        "axs[1].set_title('y vs. t')\n",
        "axs[1].set_xlabel('t')\n",
        "axs[1].set_ylabel('y')\n",
        "axs[1].legend()\n",
        "\n",
        "fig.tight_layout()"
      ],
      "metadata": {
        "colab": {
          "base_uri": "https://localhost:8080/",
          "height": 297
        },
        "id": "RnC9zuYeUrYT",
        "outputId": "1349c96d-a62a-4c69-bb53-b60fffacf78d"
      },
      "execution_count": null,
      "outputs": [
        {
          "output_type": "display_data",
          "data": {
            "text/plain": [
              "<Figure size 432x288 with 2 Axes>"
            ],
            "image/png": "[encoded data removed]"
          },
          "metadata": {
            "needs_background": "light"
          }
        }
      ]
    },
    {
      "cell_type": "code",
      "source": [
        "#veamos ahora la gráfica de la trayectoria de la partícula\n",
        "\n",
        "fig, axs = plt.subplots(1, 2)\n",
        "\n",
        "\n",
        "axs[0].plot(df['x'], df['y'], label='1000 valores')\n",
        "axs[0].set_title('y vs. x')\n",
        "axs[0].set_xlabel('x')\n",
        "axs[0].set_ylabel('y')\n",
        "axs[0].legend()\n",
        "\n",
        "axs[1].plot(df['x'][:50], df['y'][:50], label='50 valores')      #consideramos los primeros valores, para visualizar lo que pasa en los primeros segundos del problema \n",
        "axs[1].set_title('y vs. x')\n",
        "axs[1].set_xlabel('x')\n",
        "axs[1].set_ylabel('y')\n",
        "axs[1].legend()\n",
        "axs[1].grid()\n",
        "\n",
        "\n",
        "fig.tight_layout()"
      ],
      "metadata": {
        "colab": {
          "base_uri": "https://localhost:8080/",
          "height": 297
        },
        "id": "0Lj1JIY-VS6p",
        "outputId": "c45eafd4-b8a3-4c0f-dfea-3b2d1ec8be3b"
      },
      "execution_count": null,
      "outputs": [
        {
          "output_type": "display_data",
          "data": {
            "text/plain": [
              "<Figure size 432x288 with 2 Axes>"
            ],
            "image/png": "[encoded data removed]"
          },
          "metadata": {
            "needs_background": "light"
          }
        }
      ]
    },
    {
      "cell_type": "markdown",
      "source": [
        "5. Determine el alcance máximo de la partícula, para ello tome  la solucion teórica con $y=0$, solucione numéricamente la ecuación para t y remplace este valor en la ecuación para x. Resuelvalo para $\\theta=45^{o}$. "
      ],
      "metadata": {
        "id": "imYsluZpbZVT"
      }
    },
    {
      "cell_type": "code",
      "source": [
        "#recordamos la funcion pos_y y cambiamos su nombre\n",
        "\n",
        "def y(t, theta, alpha = np.pi, v0 = 60, b = 0.05, u = 30, g = 9.8):\n",
        "  y = pos_y(t, theta, alpha = np.pi, v0 = 60, b = 0.05, u = 30, g = 9.8)\n",
        "  return y \n",
        "\n",
        "theta = np.deg2rad(45)  \n",
        "\n"
      ],
      "metadata": {
        "id": "SqttnDCzVS3J"
      },
      "execution_count": null,
      "outputs": []
    },
    {
      "cell_type": "code",
      "source": [
        "#queremos encontrar el cero de la función, y vamos a tener en cuenta que lo haremos en el rango entre 10 y 80 grados\n",
        "\n",
        "#independiente del método que vayamos a utilizar, necesitamos un punto que sea cercano a la raiz\n",
        "#vamos a inspeccionar en cada uno de los casos cuándo ocurre un cambio de signo\n",
        "\n",
        "def y_(t, theta):\n",
        "  return y(t, np.deg2rad(theta))   #de modo que pueda ingresar el valor en grados"
      ],
      "metadata": {
        "id": "_oHQp9Z3eS5Z"
      },
      "execution_count": null,
      "outputs": []
    },
    {
      "cell_type": "code",
      "source": [
        "df = pd.DataFrame({'t' : []})\n",
        "df['t'] = [i for i in range(1000)]\n",
        "\n",
        "for i in np.arange(10, 85, 5):\n",
        "  df[f'y para θ = {i}°'] = df['t'].apply(lambda t: y_(t, i))\n",
        "\n",
        "df"
      ],
      "metadata": {
        "colab": {
          "base_uri": "https://localhost:8080/",
          "height": 505
        },
        "id": "I6_3pdKOkYQC",
        "outputId": "9968d9e6-c365-4514-86bb-4ab5e66e4cf4"
      },
      "execution_count": null,
      "outputs": [
        {
          "output_type": "execute_result",
          "data": {
            "text/plain": [
              "       t  y para θ = 10°  y para θ = 15°  y para θ = 20°  y para θ = 25°  \\\n",
              "0      0        0.000000        0.000000        0.000000        0.000000   \n",
              "1      1        5.343362       10.327960       15.197279       19.914259   \n",
              "2      2        0.867092       10.593188       20.094345       29.298255   \n",
              "3      3      -12.949900        1.286447       15.193546       28.665556   \n",
              "4      4      -35.652063      -17.125432        0.972729       18.504681   \n",
              "..   ...             ...             ...             ...             ...   \n",
              "995  995  -190891.622187  -190789.417146  -190689.575828  -190592.858086   \n",
              "996  996  -191087.622187  -190985.417146  -190885.575828  -190788.858086   \n",
              "997  997  -191283.622187  -191181.417146  -191081.575828  -190984.858086   \n",
              "998  998  -191479.622187  -191377.417146  -191277.575828  -191180.858086   \n",
              "999  999  -191675.622187  -191573.417146  -191473.575828  -191376.858086   \n",
              "\n",
              "     y para θ = 30°  y para θ = 35°  y para θ = 40°  y para θ = 45°  \\\n",
              "0          0.000000        0.000000        0.000000        0.000000   \n",
              "1         24.443001       28.749039       32.799602       36.563862   \n",
              "2         38.134870       46.536939       54.440516       61.785450   \n",
              "3         41.599947       53.898279       65.466957       76.217934   \n",
              "4         35.336996       51.341570       66.396599       80.387504   \n",
              "..              ...             ...             ...             ...   \n",
              "995  -190500.000000  -190411.708276  -190328.654868  -190251.471863   \n",
              "996  -190696.000000  -190607.708276  -190524.654868  -190447.471863   \n",
              "997  -190892.000000  -190803.708276  -190720.654868  -190643.471863   \n",
              "998  -191088.000000  -190999.708276  -190916.654868  -190839.471863   \n",
              "999  -191284.000000  -191195.708276  -191112.654868  -191035.471863   \n",
              "\n",
              "     y para θ = 50°  y para θ = 55°  y para θ = 60°  y para θ = 65°  \\\n",
              "0          0.000000        0.000000        0.000000        0.000000   \n",
              "1         40.013170       43.121276       45.864525       48.222039   \n",
              "2         68.515842       74.580470       79.933177       84.533228   \n",
              "3         86.069389       94.946347      102.781250      109.514467   \n",
              "4         93.207807      104.759937      114.955975      123.718324   \n",
              "..              ...             ...             ...             ...   \n",
              "995  -190180.746668  -190117.017547  -190060.769515  -190012.430656   \n",
              "996  -190376.746668  -190313.017547  -190256.769515  -190208.430656   \n",
              "997  -190572.746668  -190509.017547  -190452.769515  -190404.430656   \n",
              "998  -190768.746668  -190705.017547  -190648.769515  -190600.430656   \n",
              "999  -190964.746668  -190901.017547  -190844.769515  -190796.430656   \n",
              "\n",
              "     y para θ = 70°  y para θ = 75°  y para θ = 80°  \n",
              "0          0.000000        0.000000        0.000000  \n",
              "1         50.175876       51.711166       52.816225  \n",
              "2         88.345613       91.341316       93.497540  \n",
              "3        115.094756      119.479648      122.635770  \n",
              "4        130.980296      136.686624      140.793880  \n",
              "..              ...             ...             ...  \n",
              "995  -189972.368855  -189940.889008  -189918.230696  \n",
              "996  -190168.368855  -190136.889008  -190114.230696  \n",
              "997  -190364.368855  -190332.889008  -190310.230696  \n",
              "998  -190560.368855  -190528.889008  -190506.230696  \n",
              "999  -190756.368855  -190724.889008  -190702.230696  \n",
              "\n",
              "[1000 rows x 16 columns]"
            ],
            "text/html": [
              "\n",
              "  <div id=\"df-ba128b78-7768-4f1e-9ff6-86c54bf39bd6\">\n",
              "    <div class=\"colab-df-container\">\n",
              "      <div>\n",
              "<style scoped>\n",
              "    .dataframe tbody tr th:only-of-type {\n",
              "        vertical-align: middle;\n",
              "    }\n",
              "\n",
              "    .dataframe tbody tr th {\n",
              "        vertical-align: top;\n",
              "    }\n",
              "\n",
              "    .dataframe thead th {\n",
              "        text-align: right;\n",
              "    }\n",
              "</style>\n",
              "<table border=\"1\" class=\"dataframe\">\n",
              "  <thead>\n",
              "    <tr style=\"text-align: right;\">\n",
              "      <th></th>\n",
              "      <th>t</th>\n",
              "      <th>y para θ = 10°</th>\n",
              "      <th>y para θ = 15°</th>\n",
              "      <th>y para θ = 20°</th>\n",
              "      <th>y para θ = 25°</th>\n",
              "      <th>y para θ = 30°</th>\n",
              "      <th>y para θ = 35°</th>\n",
              "      <th>y para θ = 40°</th>\n",
              "      <th>y para θ = 45°</th>\n",
              "      <th>y para θ = 50°</th>\n",
              "      <th>y para θ = 55°</th>\n",
              "      <th>y para θ = 60°</th>\n",
              "      <th>y para θ = 65°</th>\n",
              "      <th>y para θ = 70°</th>\n",
              "      <th>y para θ = 75°</th>\n",
              "      <th>y para θ = 80°</th>\n",
              "    </tr>\n",
              "  </thead>\n",
              "  <tbody>\n",
              "    <tr>\n",
              "      <th>0</th>\n",
              "      <td>0</td>\n",
              "      <td>0.000000</td>\n",
              "      <td>0.000000</td>\n",
              "      <td>0.000000</td>\n",
              "      <td>0.000000</td>\n",
              "      <td>0.000000</td>\n",
              "      <td>0.000000</td>\n",
              "      <td>0.000000</td>\n",
              "      <td>0.000000</td>\n",
              "      <td>0.000000</td>\n",
              "      <td>0.000000</td>\n",
              "      <td>0.000000</td>\n",
              "      <td>0.000000</td>\n",
              "      <td>0.000000</td>\n",
              "      <td>0.000000</td>\n",
              "      <td>0.000000</td>\n",
              "    </tr>\n",
              "    <tr>\n",
              "      <th>1</th>\n",
              "      <td>1</td>\n",
              "      <td>5.343362</td>\n",
              "      <td>10.327960</td>\n",
              "      <td>15.197279</td>\n",
              "      <td>19.914259</td>\n",
              "      <td>24.443001</td>\n",
              "      <td>28.749039</td>\n",
              "      <td>32.799602</td>\n",
              "      <td>36.563862</td>\n",
              "      <td>40.013170</td>\n",
              "      <td>43.121276</td>\n",
              "      <td>45.864525</td>\n",
              "      <td>48.222039</td>\n",
              "      <td>50.175876</td>\n",
              "      <td>51.711166</td>\n",
              "      <td>52.816225</td>\n",
              "    </tr>\n",
              "    <tr>\n",
              "      <th>2</th>\n",
              "      <td>2</td>\n",
              "      <td>0.867092</td>\n",
              "      <td>10.593188</td>\n",
              "      <td>20.094345</td>\n",
              "      <td>29.298255</td>\n",
              "      <td>38.134870</td>\n",
              "      <td>46.536939</td>\n",
              "      <td>54.440516</td>\n",
              "      <td>61.785450</td>\n",
              "      <td>68.515842</td>\n",
              "      <td>74.580470</td>\n",
              "      <td>79.933177</td>\n",
              "      <td>84.533228</td>\n",
              "      <td>88.345613</td>\n",
              "      <td>91.341316</td>\n",
              "      <td>93.497540</td>\n",
              "    </tr>\n",
              "    <tr>\n",
              "      <th>3</th>\n",
              "      <td>3</td>\n",
              "      <td>-12.949900</td>\n",
              "      <td>1.286447</td>\n",
              "      <td>15.193546</td>\n",
              "      <td>28.665556</td>\n",
              "      <td>41.599947</td>\n",
              "      <td>53.898279</td>\n",
              "      <td>65.466957</td>\n",
              "      <td>76.217934</td>\n",
              "      <td>86.069389</td>\n",
              "      <td>94.946347</td>\n",
              "      <td>102.781250</td>\n",
              "      <td>109.514467</td>\n",
              "      <td>115.094756</td>\n",
              "      <td>119.479648</td>\n",
              "      <td>122.635770</td>\n",
              "    </tr>\n",
              "    <tr>\n",
              "      <th>4</th>\n",
              "      <td>4</td>\n",
              "      <td>-35.652063</td>\n",
              "      <td>-17.125432</td>\n",
              "      <td>0.972729</td>\n",
              "      <td>18.504681</td>\n",
              "      <td>35.336996</td>\n",
              "      <td>51.341570</td>\n",
              "      <td>66.396599</td>\n",
              "      <td>80.387504</td>\n",
              "      <td>93.207807</td>\n",
              "      <td>104.759937</td>\n",
              "      <td>114.955975</td>\n",
              "      <td>123.718324</td>\n",
              "      <td>130.980296</td>\n",
              "      <td>136.686624</td>\n",
              "      <td>140.793880</td>\n",
              "    </tr>\n",
              "    <tr>\n",
              "      <th>...</th>\n",
              "      <td>...</td>\n",
              "      <td>...</td>\n",
              "      <td>...</td>\n",
              "      <td>...</td>\n",
              "      <td>...</td>\n",
              "      <td>...</td>\n",
              "      <td>...</td>\n",
              "      <td>...</td>\n",
              "      <td>...</td>\n",
              "      <td>...</td>\n",
              "      <td>...</td>\n",
              "      <td>...</td>\n",
              "      <td>...</td>\n",
              "      <td>...</td>\n",
              "      <td>...</td>\n",
              "      <td>...</td>\n",
              "    </tr>\n",
              "    <tr>\n",
              "      <th>995</th>\n",
              "      <td>995</td>\n",
              "      <td>-190891.622187</td>\n",
              "      <td>-190789.417146</td>\n",
              "      <td>-190689.575828</td>\n",
              "      <td>-190592.858086</td>\n",
              "      <td>-190500.000000</td>\n",
              "      <td>-190411.708276</td>\n",
              "      <td>-190328.654868</td>\n",
              "      <td>-190251.471863</td>\n",
              "      <td>-190180.746668</td>\n",
              "      <td>-190117.017547</td>\n",
              "      <td>-190060.769515</td>\n",
              "      <td>-190012.430656</td>\n",
              "      <td>-189972.368855</td>\n",
              "      <td>-189940.889008</td>\n",
              "      <td>-189918.230696</td>\n",
              "    </tr>\n",
              "    <tr>\n",
              "      <th>996</th>\n",
              "      <td>996</td>\n",
              "      <td>-191087.622187</td>\n",
              "      <td>-190985.417146</td>\n",
              "      <td>-190885.575828</td>\n",
              "      <td>-190788.858086</td>\n",
              "      <td>-190696.000000</td>\n",
              "      <td>-190607.708276</td>\n",
              "      <td>-190524.654868</td>\n",
              "      <td>-190447.471863</td>\n",
              "      <td>-190376.746668</td>\n",
              "      <td>-190313.017547</td>\n",
              "      <td>-190256.769515</td>\n",
              "      <td>-190208.430656</td>\n",
              "      <td>-190168.368855</td>\n",
              "      <td>-190136.889008</td>\n",
              "      <td>-190114.230696</td>\n",
              "    </tr>\n",
              "    <tr>\n",
              "      <th>997</th>\n",
              "      <td>997</td>\n",
              "      <td>-191283.622187</td>\n",
              "      <td>-191181.417146</td>\n",
              "      <td>-191081.575828</td>\n",
              "      <td>-190984.858086</td>\n",
              "      <td>-190892.000000</td>\n",
              "      <td>-190803.708276</td>\n",
              "      <td>-190720.654868</td>\n",
              "      <td>-190643.471863</td>\n",
              "      <td>-190572.746668</td>\n",
              "      <td>-190509.017547</td>\n",
              "      <td>-190452.769515</td>\n",
              "      <td>-190404.430656</td>\n",
              "      <td>-190364.368855</td>\n",
              "      <td>-190332.889008</td>\n",
              "      <td>-190310.230696</td>\n",
              "    </tr>\n",
              "    <tr>\n",
              "      <th>998</th>\n",
              "      <td>998</td>\n",
              "      <td>-191479.622187</td>\n",
              "      <td>-191377.417146</td>\n",
              "      <td>-191277.575828</td>\n",
              "      <td>-191180.858086</td>\n",
              "      <td>-191088.000000</td>\n",
              "      <td>-190999.708276</td>\n",
              "      <td>-190916.654868</td>\n",
              "      <td>-190839.471863</td>\n",
              "      <td>-190768.746668</td>\n",
              "      <td>-190705.017547</td>\n",
              "      <td>-190648.769515</td>\n",
              "      <td>-190600.430656</td>\n",
              "      <td>-190560.368855</td>\n",
              "      <td>-190528.889008</td>\n",
              "      <td>-190506.230696</td>\n",
              "    </tr>\n",
              "    <tr>\n",
              "      <th>999</th>\n",
              "      <td>999</td>\n",
              "      <td>-191675.622187</td>\n",
              "      <td>-191573.417146</td>\n",
              "      <td>-191473.575828</td>\n",
              "      <td>-191376.858086</td>\n",
              "      <td>-191284.000000</td>\n",
              "      <td>-191195.708276</td>\n",
              "      <td>-191112.654868</td>\n",
              "      <td>-191035.471863</td>\n",
              "      <td>-190964.746668</td>\n",
              "      <td>-190901.017547</td>\n",
              "      <td>-190844.769515</td>\n",
              "      <td>-190796.430656</td>\n",
              "      <td>-190756.368855</td>\n",
              "      <td>-190724.889008</td>\n",
              "      <td>-190702.230696</td>\n",
              "    </tr>\n",
              "  </tbody>\n",
              "</table>\n",
              "<p>1000 rows × 16 columns</p>\n",
              "</div>\n",
              "      <button class=\"colab-df-convert\" onclick=\"convertToInteractive('df-ba128b78-7768-4f1e-9ff6-86c54bf39bd6')\"\n",
              "              title=\"Convert this dataframe to an interactive table.\"\n",
              "              style=\"display:none;\">\n",
              "        \n",
              "  <svg xmlns=\"http://www.w3.org/2000/svg\" height=\"24px\"viewBox=\"0 0 24 24\"\n",
              "       width=\"24px\">\n",
              "    <path d=\"M0 0h24v24H0V0z\" fill=\"none\"/>\n",
              "    <path d=\"M18.56 5.44l.94 2.06.94-2.06 2.06-.94-2.06-.94-.94-2.06-.94 2.06-2.06.94zm-11 1L8.5 8.5l.94-2.06 2.06-.94-2.06-.94L8.5 2.5l-.94 2.06-2.06.94zm10 10l.94 2.06.94-2.06 2.06-.94-2.06-.94-.94-2.06-.94 2.06-2.06.94z\"/><path d=\"M17.41 7.96l-1.37-1.37c-.4-.4-.92-.59-1.43-.59-.52 0-1.04.2-1.43.59L10.3 9.45l-7.72 7.72c-.78.78-.78 2.05 0 2.83L4 21.41c.39.39.9.59 1.41.59.51 0 1.02-.2 1.41-.59l7.78-7.78 2.81-2.81c.8-.78.8-2.07 0-2.86zM5.41 20L4 18.59l7.72-7.72 1.47 1.35L5.41 20z\"/>\n",
              "  </svg>\n",
              "      </button>\n",
              "      \n",
              "  <style>\n",
              "    .colab-df-container {\n",
              "      display:flex;\n",
              "      flex-wrap:wrap;\n",
              "      gap: 12px;\n",
              "    }\n",
              "\n",
              "    .colab-df-convert {\n",
              "      background-color: #E8F0FE;\n",
              "      border: none;\n",
              "      border-radius: 50%;\n",
              "      cursor: pointer;\n",
              "      display: none;\n",
              "      fill: #1967D2;\n",
              "      height: 32px;\n",
              "      padding: 0 0 0 0;\n",
              "      width: 32px;\n",
              "    }\n",
              "\n",
              "    .colab-df-convert:hover {\n",
              "      background-color: #E2EBFA;\n",
              "      box-shadow: 0px 1px 2px rgba(60, 64, 67, 0.3), 0px 1px 3px 1px rgba(60, 64, 67, 0.15);\n",
              "      fill: #174EA6;\n",
              "    }\n",
              "\n",
              "    [theme=dark] .colab-df-convert {\n",
              "      background-color: #3B4455;\n",
              "      fill: #D2E3FC;\n",
              "    }\n",
              "\n",
              "    [theme=dark] .colab-df-convert:hover {\n",
              "      background-color: #434B5C;\n",
              "      box-shadow: 0px 1px 3px 1px rgba(0, 0, 0, 0.15);\n",
              "      filter: drop-shadow(0px 1px 2px rgba(0, 0, 0, 0.3));\n",
              "      fill: #FFFFFF;\n",
              "    }\n",
              "  </style>\n",
              "\n",
              "      <script>\n",
              "        const buttonEl =\n",
              "          document.querySelector('#df-ba128b78-7768-4f1e-9ff6-86c54bf39bd6 button.colab-df-convert');\n",
              "        buttonEl.style.display =\n",
              "          google.colab.kernel.accessAllowed ? 'block' : 'none';\n",
              "\n",
              "        async function convertToInteractive(key) {\n",
              "          const element = document.querySelector('#df-ba128b78-7768-4f1e-9ff6-86c54bf39bd6');\n",
              "          const dataTable =\n",
              "            await google.colab.kernel.invokeFunction('convertToInteractive',\n",
              "                                                     [key], {});\n",
              "          if (!dataTable) return;\n",
              "\n",
              "          const docLinkHtml = 'Like what you see? Visit the ' +\n",
              "            '<a target=\"_blank\" href=https://colab.research.google.com/notebooks/data_table.ipynb>data table notebook</a>'\n",
              "            + ' to learn more about interactive tables.';\n",
              "          element.innerHTML = '';\n",
              "          dataTable['output_type'] = 'display_data';\n",
              "          await google.colab.output.renderOutput(dataTable, element);\n",
              "          const docLink = document.createElement('div');\n",
              "          docLink.innerHTML = docLinkHtml;\n",
              "          element.appendChild(docLink);\n",
              "        }\n",
              "      </script>\n",
              "    </div>\n",
              "  </div>\n",
              "  "
            ]
          },
          "metadata": {},
          "execution_count": 44
        }
      ]
    },
    {
      "cell_type": "code",
      "source": [
        "#ahora, para cada uno de los ángulos, vamos a encontrar un punto que sea cercano a la raiz\n",
        "\n",
        "angulos=np.arange(10,85,5)\n",
        "puntos_a_evaluar_y= np.zeros(15)\n",
        "p_pos_y= np.zeros(15)\n",
        "\n",
        "p=0\n",
        "for i in angulos:\n",
        "  count= 2\n",
        "  signo_inicial = df[f'y para θ = {i}°'][1]      #signo del primer elemento de cada columna\n",
        "  for k in df[f'y para θ = {i}°'][1:]:           #tomamos cada elementos de cada columna y lo multiplicamos por el siguiente\n",
        "    valor = k* df[f'y para θ = {i}°'][count]\n",
        "    count += 1\n",
        "    if valor * signo_inicial < 0:                #rompemos el ciclo y guardamos el valor anterior al cambio de signo\n",
        "      puntos_a_evaluar_y[p] = k\n",
        "      p_pos_y[p] = df[f'y para θ = {i}°'][count]\n",
        "      break\n",
        "  p+=1"
      ],
      "metadata": {
        "id": "onPWar3duoIc"
      },
      "execution_count": null,
      "outputs": []
    },
    {
      "cell_type": "code",
      "source": [
        "puntos_a_evaluar_y , p_pos_y"
      ],
      "metadata": {
        "colab": {
          "base_uri": "https://localhost:8080/"
        },
        "id": "Inw34QHOzT-E",
        "outputId": "72b1088d-45b6-46dd-963e-a52ae4112d48"
      },
      "execution_count": null,
      "outputs": [
        {
          "output_type": "execute_result",
          "data": {
            "text/plain": [
              "(array([ 0.86709203,  1.28644665,  0.97272851, 18.50468078, 19.82046052,\n",
              "        18.38524855, 13.41009261,  4.08813682, 27.40481563, 12.70281411,\n",
              "        33.08551722, 10.3250064 , 26.08809661, 38.47445109,  2.30447129]),\n",
              " array([ -35.65206279,  -44.19838552,  -53.6329579 ,  -28.56548141,\n",
              "         -37.19016553,  -48.7385967 ,  -63.98859327,  -83.73037963,\n",
              "         -55.90218408,  -81.7923435 ,  -57.99660315,  -92.64298033,\n",
              "         -74.56756211,  -60.36422163, -109.58781535]))"
            ]
          },
          "metadata": {},
          "execution_count": 46
        }
      ]
    },
    {
      "cell_type": "code",
      "source": [
        "#los valores que obtuve son los cambios de signo, pero correspondientes al valor de y, debo ver cual es su preimagen, es decir, el valor de t\n",
        "\n",
        "angulos=np.arange(10,85,5)\n",
        "puntos_a_evaluar_x= np.zeros(15)\n",
        "p_pos_x= np.zeros(15)\n",
        "\n",
        "count= 0\n",
        "for i in angulos:\n",
        "  x= np.where(df[f'y para θ = {i}°'] == puntos_a_evaluar_y[count])\n",
        "  x_1= np.where(df[f'y para θ = {i}°'] == p_pos_y[count])\n",
        "  puntos_a_evaluar_x[count] = x[0]\n",
        "  p_pos_x[count] = x_1[0]\n",
        "  count +=1\n",
        "\n"
      ],
      "metadata": {
        "id": "3_0qMyJm8F0f"
      },
      "execution_count": null,
      "outputs": []
    },
    {
      "cell_type": "code",
      "source": [
        "puntos_a_evaluar_x , p_pos_x, len(puntos_a_evaluar_x)"
      ],
      "metadata": {
        "colab": {
          "base_uri": "https://localhost:8080/"
        },
        "id": "WrJ8T27JBv_v",
        "outputId": "7611cdfc-dd99-49ed-fab2-ce1aad3cc369"
      },
      "execution_count": null,
      "outputs": [
        {
          "output_type": "execute_result",
          "data": {
            "text/plain": [
              "(array([ 2.,  3.,  4.,  4.,  5.,  6.,  7.,  8.,  8.,  9.,  9., 10., 10.,\n",
              "        10., 11.]),\n",
              " array([ 4.,  5.,  6.,  6.,  7.,  8.,  9., 10., 10., 11., 11., 12., 12.,\n",
              "        12., 13.]),\n",
              " 15)"
            ]
          },
          "metadata": {},
          "execution_count": 48
        }
      ]
    },
    {
      "cell_type": "code",
      "source": [
        "#como ya tenemos los puntos a evaluar, podemos encontrar el cero de función a través del método de la bisección\n",
        "\n",
        "from scipy import optimize"
      ],
      "metadata": {
        "id": "lkgJnU6X3ayq"
      },
      "execution_count": null,
      "outputs": []
    },
    {
      "cell_type": "code",
      "source": [
        "raices = np.zeros(15)\n",
        "\n",
        "for i in range(15):\n",
        "  raiz= optimize.bisect(y_, puntos_a_evaluar_x[i], p_pos_x[i], args=(angulos[i],))\n",
        "  raices[i] = raiz"
      ],
      "metadata": {
        "id": "2uBvWPTm3asN"
      },
      "execution_count": null,
      "outputs": []
    },
    {
      "cell_type": "code",
      "source": [
        "raices"
      ],
      "metadata": {
        "colab": {
          "base_uri": "https://localhost:8080/"
        },
        "id": "AOT8nIJTDnHa",
        "outputId": "51f23d84-912f-4743-a2ec-df6c552a4ac6"
      },
      "execution_count": null,
      "outputs": [
        {
          "output_type": "execute_result",
          "data": {
            "text/plain": [
              "array([ 2.08991303,  3.08969274,  4.05131868,  4.96934254,  5.83875914,\n",
              "        6.65499011,  7.41386887,  8.11162702,  8.74488266,  9.31063044,\n",
              "        9.80623346, 10.22941677, 10.5782623 , 10.85120507, 11.04703035])"
            ]
          },
          "metadata": {},
          "execution_count": 51
        }
      ]
    },
    {
      "cell_type": "code",
      "source": [
        "#la raiz correspondiente al ángulo 45° es raices[7]\n",
        "#por lo cual, para calcular el alcance máximo, vamos a evaluar la función de x en el tiempo que obtuvimos\n",
        "\n",
        "\n",
        "def pos_x(t, theta, alpha, v0, b, u,g):\n",
        "  x = (u * np.cos(alpha))* t + (1/b) * (v0 * np.cos(theta) - u * np.cos(alpha)) * (1- np.exp(-b * t))\n",
        "  return x\n",
        "\n",
        "def x(t, theta):\n",
        "  return pos_x(t, theta, np.pi, 60,  0.05, 30, 9.8)\n",
        "  \n",
        "def x_(t, theta):\n",
        "  return x(t, np.deg2rad(theta))"
      ],
      "metadata": {
        "id": "p3KA8F9JGvQb"
      },
      "execution_count": null,
      "outputs": []
    },
    {
      "cell_type": "code",
      "source": [
        "max_x_45= x_(raices[7], 45)\n",
        "print(f'el alcance máximo de la partícula bajoa las condiciones iniciales establecidas y con un ángulo de 45° es {max_x_45} metros')"
      ],
      "metadata": {
        "colab": {
          "base_uri": "https://localhost:8080/"
        },
        "id": "2fu2wM2zI9xK",
        "outputId": "fa21f62f-0758-430a-85b2-16062aa8a0ec"
      },
      "execution_count": null,
      "outputs": [
        {
          "output_type": "stream",
          "name": "stdout",
          "text": [
            "el alcance máximo de la partícula bajoa las condiciones iniciales establecidas y con un ángulo de 45° es 239.60614945523878 metros\n"
          ]
        }
      ]
    },
    {
      "cell_type": "markdown",
      "source": [
        "\n",
        " \n",
        "\n",
        "6. Construya una  grafica del alcance máximo R como función de $\\theta$, varie $\\theta$  entre 10 y 80 grados cada 5 grados."
      ],
      "metadata": {
        "id": "lfyfpi0xIJ-w"
      }
    },
    {
      "cell_type": "code",
      "source": [
        "#obtengamos ahora el alcance máximo de la partícula para cada uno de los ángulos que se pide\n",
        "\n",
        "alcance_max= []\n",
        "\n",
        "count=0\n",
        "for i in angulos:\n",
        "  alcance = x_(raices[count], i)\n",
        "  alcance_max.append(alcance)\n",
        "  count+=1"
      ],
      "metadata": {
        "id": "MeUXubj7LHzp"
      },
      "execution_count": null,
      "outputs": []
    },
    {
      "cell_type": "code",
      "source": [
        "R= alcance_max\n",
        "angulo = angulos\n",
        "\n",
        "plt.plot(angulo, R)\n",
        "plt.grid()\n",
        "plt.title('alcance máximo como funcion de θ')\n",
        "plt.xlabel('θ°')\n",
        "plt.ylabel('alcance máximo (m)');"
      ],
      "metadata": {
        "colab": {
          "base_uri": "https://localhost:8080/",
          "height": 295
        },
        "id": "gF8ZHKRTLldm",
        "outputId": "afc77866-d208-42ea-dbc9-6226fcdc099b"
      },
      "execution_count": null,
      "outputs": [
        {
          "output_type": "display_data",
          "data": {
            "text/plain": [
              "<Figure size 432x288 with 1 Axes>"
            ],
            "image/png": "[encoded data removed]"
          },
          "metadata": {
            "needs_background": "light"
          }
        }
      ]
    },
    {
      "cell_type": "markdown",
      "source": [
        "\n",
        "# 4. Construir un fractal empleando el metodo de Newton-Raphson, \n",
        "(Reproducir código y entender)\n",
        "\\begin{equation}\n",
        "z_{n+1} = z_n -a \\frac{f(z)}{f'(z)} \n",
        "\\end{equation}\n",
        "\n",
        "\n",
        "\n",
        "\\begin{equation}\n",
        "f'(z) = \\frac{ f(z+h)+f(z) }{h}\n",
        "\\end{equation}"
      ],
      "metadata": {
        "id": "Ok4b668dWU_A"
      }
    },
    {
      "cell_type": "markdown",
      "source": [
        "```\n",
        "import numpy as np\n",
        "import matplotlib.pylab as plt\n",
        "from PIL import Image\n",
        "\n",
        "Npx_X = 80 #Numero de pixeles en x\n",
        "Npx_Y = 80 #Numero de pixeles en y\n",
        "\n",
        "image = Image.new(\"RGB\", (Npx_X, Npx_Y)) #Creacion de la imagen inicial\n",
        "\n",
        "npx = np.arange(0, Npx_X)\n",
        "npy = np.arange(0, Npx_Y)\n",
        "\n",
        "xmin = -1\n",
        "xmax = 1\n",
        "ymin = -1\n",
        "ymax = 1\n",
        "#Transformación al plano complejo en un rectangulo (xmin, xmax), (ymin, ymax)\n",
        "zx = npx * (xmax - xmin) / (Npx_X - 1)   + xmin\n",
        "zy = npy * (ymax-ymin) / (Npx_Y - 1) + ymin\n",
        "\n",
        "#Definicion  la funcion y las derivada \n",
        "def f(z): \n",
        "  return z**3 - 1\n",
        "\n",
        "def fp(z): \n",
        "  return 3*z**2\n",
        "\n",
        "h = 1E-4\n",
        "def fpn(z, h): \n",
        "  return (f(z+h)-f(z))/h\n",
        "  \n",
        "\n",
        "a = 0.2\n",
        "Niteraciones = 120\n",
        "eps = 1E-8\n",
        "\n",
        "x = - 1\n",
        "for zx_ in zx:\n",
        "  x = x + 1 \n",
        "  y = -1\n",
        "  for zy_ in zy: \n",
        "      y = y + 1\n",
        "      Z_0 = complex(zx_, zy_)\n",
        "    \n",
        "      for i in range(0, Niteraciones): \n",
        "        Z = Z_0 - a * f(Z_0)/fp(Z_0)\n",
        "        if( abs(Z-Z_0)<= eps):\n",
        "          break           \n",
        "        Z_0 = Z\n",
        "      #print(i)\n",
        "      #print(i)\n",
        "      r, g, b = i % 4 *64 , i % 8 *16, i% 16* 16      \n",
        "      image.putpixel((x,y), (r,g,b) )\n",
        "\n",
        "plt.imshow(image)\n",
        "#plt.xlim(400, 600)\n",
        "#plt.ylim(400, 523)\n",
        "```"
      ],
      "metadata": {
        "id": "9OaykphcWtaW"
      }
    },
    {
      "cell_type": "code",
      "source": [
        "import numpy as np\n",
        "import matplotlib.pylab as plt\n",
        "from PIL import Image\n",
        "\n",
        "Npx_X = 80 #Numero de pixeles en x\n",
        "Npx_Y = 80 #Numero de pixeles en y\n",
        "\n",
        "image = Image.new(\"RGB\", (Npx_X, Npx_Y)) #Creacion de la imagen inicial\n",
        "\n",
        "npx = np.arange(0, Npx_X)\n",
        "npy = np.arange(0, Npx_Y)\n",
        "\n",
        "xmin = -1\n",
        "xmax = 1\n",
        "ymin = -1\n",
        "ymax = 1\n",
        "#Transformación al plano complejo en un rectangulo (xmin, xmax), (ymin, ymax)\n",
        "zx = npx * (xmax - xmin) / (Npx_X - 1)   + xmin\n",
        "zy = npy * (ymax-ymin) / (Npx_Y - 1) + ymin\n",
        "\n",
        "#Definicion  la funcion y las derivada \n",
        "def f(z): \n",
        "  return z**3 - 1\n",
        "\n",
        "def fp(z): \n",
        "  return 3*z**2\n",
        "\n",
        "h = 1E-4\n",
        "def fpn(z, h): \n",
        "  return (f(z+h)-f(z))/h\n",
        "  \n",
        "\n",
        "a = 0.2\n",
        "Niteraciones = 120\n",
        "eps = 1E-8\n",
        "\n",
        "x = - 1\n",
        "for zx_ in zx:\n",
        "  x = x + 1 \n",
        "  y = -1\n",
        "  for zy_ in zy: \n",
        "      y = y + 1\n",
        "      Z_0 = complex(zx_, zy_)\n",
        "    \n",
        "      for i in range(0, Niteraciones): \n",
        "        Z = Z_0 - a * f(Z_0)/fp(Z_0)\n",
        "        if( abs(Z-Z_0)<= eps):\n",
        "          break           \n",
        "        Z_0 = Z\n",
        "      #print(i)\n",
        "      #print(i)\n",
        "      r, g, b = i % 4 *64 , i % 8 *16, i% 16* 16      \n",
        "      image.putpixel((x,y), (r,g,b) )\n",
        "\n",
        "plt.imshow(image)\n",
        "#plt.xlim(400, 600)\n",
        "#plt.ylim(400, 523)"
      ],
      "metadata": {
        "colab": {
          "base_uri": "https://localhost:8080/",
          "height": 285
        },
        "id": "Wh5nTkEHiXn-",
        "outputId": "710b25d1-0696-4f14-af39-d579821e76e4"
      },
      "execution_count": null,
      "outputs": [
        {
          "output_type": "execute_result",
          "data": {
            "text/plain": [
              "<matplotlib.image.AxesImage at 0x7fc9a7472af0>"
            ]
          },
          "metadata": {},
          "execution_count": 56
        },
        {
          "output_type": "display_data",
          "data": {
            "text/plain": [
              "<Figure size 432x288 with 1 Axes>"
            ],
            "image/png": "[encoded data removed]"
          },
          "metadata": {
            "needs_background": "light"
          }
        }
      ]
    },
    {
      "cell_type": "code",
      "source": [
        "###vamos a comenzar a cambiar algunos valores para obtener fractales diferentes\n",
        "\n",
        "#Definicion  la funcion y las derivada \n",
        "def f(z): \n",
        "  return (1-z)**4 - 1\n",
        "\n",
        "def fp(z): \n",
        "  return -4 * (1-z)**3\n",
        "\n",
        "h = 1E-4\n",
        "def fpn(z, h): \n",
        "  return (f(z+h)-f(z))/h\n",
        "  \n",
        "\n",
        "a = 0.2\n",
        "Niteraciones = 120\n",
        "eps = 1E-8\n",
        "\n",
        "x = - 1\n",
        "for zx_ in zx:\n",
        "  x = x + 1 \n",
        "  y = -1\n",
        "  for zy_ in zy: \n",
        "      y = y + 1\n",
        "      Z_0 = complex(zx_, zy_)\n",
        "    \n",
        "      for i in range(0, Niteraciones): \n",
        "        Z = Z_0 - a * f(Z_0)/fp(Z_0)\n",
        "        if( abs(Z-Z_0)<= eps):\n",
        "          break           \n",
        "        Z_0 = Z\n",
        "      #print(i)\n",
        "      #print(i)\n",
        "      r, g, b = i % 4 *64 , i % 8 *16, i% 16* 16      \n",
        "      image.putpixel((x,y), (r,g,b) )\n",
        "\n",
        "plt.imshow(image)\n",
        "#plt.xlim(400, 600)\n",
        "#plt.ylim(400, 523)"
      ],
      "metadata": {
        "colab": {
          "base_uri": "https://localhost:8080/",
          "height": 285
        },
        "id": "jbkWR0hleC-3",
        "outputId": "ca567f81-b126-4e42-83af-2c5617212cea"
      },
      "execution_count": null,
      "outputs": [
        {
          "output_type": "execute_result",
          "data": {
            "text/plain": [
              "<matplotlib.image.AxesImage at 0x7fc9a72303a0>"
            ]
          },
          "metadata": {},
          "execution_count": 57
        },
        {
          "output_type": "display_data",
          "data": {
            "text/plain": [
              "<Figure size 432x288 with 1 Axes>"
            ],
            "image/png": "[encoded data removed]"
          },
          "metadata": {
            "needs_background": "light"
          }
        }
      ]
    },
    {
      "cell_type": "code",
      "source": [
        "#Definicion  la funcion y las derivada \n",
        "def f(z): \n",
        "  return np.exp(z) * np.sin(z)\n",
        "\n",
        "def fp(z): \n",
        "  return np.exp(z) * np.sin(z) + np.exp(z) * np.cos(z)\n",
        "\n",
        "h = 1E-4\n",
        "def fpn(z, h): \n",
        "  return (f(z+h)-f(z))/h\n",
        "  \n",
        "\n",
        "a = 0.2\n",
        "Niteraciones = 120\n",
        "eps = 1E-8\n",
        "\n",
        "x = - 1\n",
        "for zx_ in zx:\n",
        "  x = x + 1 \n",
        "  y = -1\n",
        "  for zy_ in zy: \n",
        "      y = y + 1\n",
        "      Z_0 = complex(zx_, zy_)\n",
        "    \n",
        "      for i in range(0, Niteraciones): \n",
        "        Z = Z_0 - a * f(Z_0)/fp(Z_0)\n",
        "        if( abs(Z-Z_0)<= eps):\n",
        "          break           \n",
        "        Z_0 = Z\n",
        "      #print(i)\n",
        "      #print(i)\n",
        "      r, g, b = i % 4 *64 , i % 8 *16, i% 16* 16      \n",
        "      image.putpixel((x,y), (r,g,b) )\n",
        "\n",
        "plt.imshow(image)\n",
        "#plt.xlim(400, 600)\n",
        "#plt.ylim(400, 523)"
      ],
      "metadata": {
        "colab": {
          "base_uri": "https://localhost:8080/",
          "height": 285
        },
        "id": "pjVCLmS3eI8l",
        "outputId": "43fdb8c5-3c6f-4df2-c5ef-e34b6d246742"
      },
      "execution_count": null,
      "outputs": [
        {
          "output_type": "execute_result",
          "data": {
            "text/plain": [
              "<matplotlib.image.AxesImage at 0x7fc9a71482e0>"
            ]
          },
          "metadata": {},
          "execution_count": 58
        },
        {
          "output_type": "display_data",
          "data": {
            "text/plain": [
              "<Figure size 432x288 with 1 Axes>"
            ],
            "image/png": "[encoded data removed]"
          },
          "metadata": {
            "needs_background": "light"
          }
        }
      ]
    },
    {
      "cell_type": "code",
      "source": [
        "#Definicion  la funcion y las derivada \n",
        "def f(z): \n",
        "  return z\n",
        "\n",
        "def fp(z): \n",
        "  return 1\n",
        "\n",
        "h = 1E-4\n",
        "def fpn(z, h): \n",
        "  return (f(z+h)-f(z))/h\n",
        "  \n",
        "\n",
        "a = 0.2\n",
        "Niteraciones = 120\n",
        "eps = 1E-8\n",
        "\n",
        "x = - 1\n",
        "for zx_ in zx:\n",
        "  x = x + 1 \n",
        "  y = -1\n",
        "  for zy_ in zy: \n",
        "      y = y + 1\n",
        "      Z_0 = complex(zx_, zy_)\n",
        "    \n",
        "      for i in range(0, Niteraciones): \n",
        "        Z = Z_0 - a * f(Z_0)/fp(Z_0)\n",
        "        if( abs(Z-Z_0)<= eps):\n",
        "          break           \n",
        "        Z_0 = Z\n",
        "      #print(i)\n",
        "      #print(i)\n",
        "      r, g, b = i % 4 *64 , i % 8 *16, i% 16* 16      \n",
        "      image.putpixel((x,y), (r,g,b) )\n",
        "\n",
        "plt.imshow(image)\n",
        "#plt.xlim(400, 600)\n",
        "#plt.ylim(400, 523)"
      ],
      "metadata": {
        "colab": {
          "base_uri": "https://localhost:8080/",
          "height": 285
        },
        "id": "nQkSTpKRe2TI",
        "outputId": "eaa52efb-f8b7-4f15-9fb0-6314b3711149"
      },
      "execution_count": null,
      "outputs": [
        {
          "output_type": "execute_result",
          "data": {
            "text/plain": [
              "<matplotlib.image.AxesImage at 0x7fc9a58c80a0>"
            ]
          },
          "metadata": {},
          "execution_count": 59
        },
        {
          "output_type": "display_data",
          "data": {
            "text/plain": [
              "<Figure size 432x288 with 1 Axes>"
            ],
            "image/png": "[encoded data removed]"
          },
          "metadata": {
            "needs_background": "light"
          }
        }
      ]
    }
  ]
}